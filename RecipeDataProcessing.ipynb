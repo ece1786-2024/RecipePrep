{
  "nbformat": 4,
  "nbformat_minor": 0,
  "metadata": {
    "colab": {
      "provenance": []
    },
    "kernelspec": {
      "name": "python3",
      "display_name": "Python 3"
    },
    "language_info": {
      "name": "python"
    }
  },
  "cells": [
    {
      "cell_type": "code",
      "execution_count": 1,
      "metadata": {
        "colab": {
          "base_uri": "https://localhost:8080/"
        },
        "id": "2uxGRAb98JNs",
        "outputId": "c71dded3-d0a0-4fcd-c4fe-2cbe2538828e"
      },
      "outputs": [
        {
          "output_type": "stream",
          "name": "stdout",
          "text": [
            "Requirement already satisfied: openai in /usr/local/lib/python3.10/dist-packages (1.54.3)\n",
            "Requirement already satisfied: anyio<5,>=3.5.0 in /usr/local/lib/python3.10/dist-packages (from openai) (3.7.1)\n",
            "Requirement already satisfied: distro<2,>=1.7.0 in /usr/local/lib/python3.10/dist-packages (from openai) (1.9.0)\n",
            "Requirement already satisfied: httpx<1,>=0.23.0 in /usr/local/lib/python3.10/dist-packages (from openai) (0.27.2)\n",
            "Requirement already satisfied: jiter<1,>=0.4.0 in /usr/local/lib/python3.10/dist-packages (from openai) (0.7.0)\n",
            "Requirement already satisfied: pydantic<3,>=1.9.0 in /usr/local/lib/python3.10/dist-packages (from openai) (2.9.2)\n",
            "Requirement already satisfied: sniffio in /usr/local/lib/python3.10/dist-packages (from openai) (1.3.1)\n",
            "Requirement already satisfied: tqdm>4 in /usr/local/lib/python3.10/dist-packages (from openai) (4.66.6)\n",
            "Requirement already satisfied: typing-extensions<5,>=4.11 in /usr/local/lib/python3.10/dist-packages (from openai) (4.12.2)\n",
            "Requirement already satisfied: idna>=2.8 in /usr/local/lib/python3.10/dist-packages (from anyio<5,>=3.5.0->openai) (3.10)\n",
            "Requirement already satisfied: exceptiongroup in /usr/local/lib/python3.10/dist-packages (from anyio<5,>=3.5.0->openai) (1.2.2)\n",
            "Requirement already satisfied: certifi in /usr/local/lib/python3.10/dist-packages (from httpx<1,>=0.23.0->openai) (2024.8.30)\n",
            "Requirement already satisfied: httpcore==1.* in /usr/local/lib/python3.10/dist-packages (from httpx<1,>=0.23.0->openai) (1.0.6)\n",
            "Requirement already satisfied: h11<0.15,>=0.13 in /usr/local/lib/python3.10/dist-packages (from httpcore==1.*->httpx<1,>=0.23.0->openai) (0.14.0)\n",
            "Requirement already satisfied: annotated-types>=0.6.0 in /usr/local/lib/python3.10/dist-packages (from pydantic<3,>=1.9.0->openai) (0.7.0)\n",
            "Requirement already satisfied: pydantic-core==2.23.4 in /usr/local/lib/python3.10/dist-packages (from pydantic<3,>=1.9.0->openai) (2.23.4)\n",
            "Requirement already satisfied: pandas in /usr/local/lib/python3.10/dist-packages (2.2.2)\n",
            "Requirement already satisfied: numpy>=1.22.4 in /usr/local/lib/python3.10/dist-packages (from pandas) (1.26.4)\n",
            "Requirement already satisfied: python-dateutil>=2.8.2 in /usr/local/lib/python3.10/dist-packages (from pandas) (2.8.2)\n",
            "Requirement already satisfied: pytz>=2020.1 in /usr/local/lib/python3.10/dist-packages (from pandas) (2024.2)\n",
            "Requirement already satisfied: tzdata>=2022.7 in /usr/local/lib/python3.10/dist-packages (from pandas) (2024.2)\n",
            "Requirement already satisfied: six>=1.5 in /usr/local/lib/python3.10/dist-packages (from python-dateutil>=2.8.2->pandas) (1.16.0)\n"
          ]
        }
      ],
      "source": [
        "!pip install openai\n",
        "!pip install pandas"
      ]
    },
    {
      "cell_type": "code",
      "source": [
        "from openai import OpenAI\n",
        "import json\n",
        "import random"
      ],
      "metadata": {
        "id": "ietWo6G38nT0"
      },
      "execution_count": 23,
      "outputs": []
    },
    {
      "cell_type": "code",
      "source": [
        "from google.colab import drive\n",
        "drive.mount('/content/drive')\n",
        "%cd  /content/drive/MyDrive/ECE1786/Project"
      ],
      "metadata": {
        "colab": {
          "base_uri": "https://localhost:8080/"
        },
        "id": "x63c3tBZ8pRO",
        "outputId": "9324c5eb-bf65-4c63-d51f-c631707f7ff9"
      },
      "execution_count": 2,
      "outputs": [
        {
          "output_type": "stream",
          "name": "stdout",
          "text": [
            "Drive already mounted at /content/drive; to attempt to forcibly remount, call drive.mount(\"/content/drive\", force_remount=True).\n",
            "/content/drive/MyDrive/ECE1786/Project\n"
          ]
        }
      ]
    },
    {
      "cell_type": "code",
      "source": [
        " # API+Key\n",
        "api_key = \"API_KEY\""
      ],
      "metadata": {
        "id": "0c4GbpPg834n"
      },
      "execution_count": 4,
      "outputs": []
    },
    {
      "cell_type": "markdown",
      "source": [
        "## Data Processing"
      ],
      "metadata": {
        "id": "kCNG_0ekQ4Un"
      }
    },
    {
      "cell_type": "markdown",
      "source": [
        "### Recipe Data Initial Processing"
      ],
      "metadata": {
        "id": "zsbO8D8aQ54N"
      }
    },
    {
      "cell_type": "code",
      "source": [
        "def get_API_response(client,in_prompt,user_input,temp,topp):\n",
        "\n",
        "  #print(\"temperature= {0}, top_p= {1} , max_tokens={2}, input_statement={3}\".format(temp,topp,max_token,input_statement))\n",
        "\n",
        "  chat_completion = client.chat.completions.create(\n",
        "    messages=[\n",
        "        {\"role\": \"system\", \"content\": in_prompt},\n",
        "        {\"role\": \"user\", \"content\": user_input}\n",
        "    ],\n",
        "    model=\"gpt-4o\",\n",
        "    temperature = temp,\n",
        "    top_p = topp\n",
        "  )\n",
        "  response = chat_completion.choices[0].message.content\n",
        "  #print(chat_completion)\n",
        "\n",
        "  return response"
      ],
      "metadata": {
        "id": "l1TJiCM385KS"
      },
      "execution_count": 17,
      "outputs": []
    },
    {
      "cell_type": "code",
      "source": [
        "def process_API_res_get_processed_recipe(API_resonse,recipe_id,eachRecipe):\n",
        "  try:\n",
        "    processed_res= json.loads(API_resonse)\n",
        "  except Exception as e:\n",
        "      print(f\"Error: {e}\")\n",
        "      print(API_resonse)\n",
        "\n",
        "  processed_recipe = {\n",
        "        \"recipe_id\": recipe_id,\n",
        "        \"recipe_title\": eachRecipe[\"title\"],\n",
        "        \"original_instructions\": eachRecipe[\"instructions\"],\n",
        "        \"ingredients\": eachRecipe[\"ingredients\"],\n",
        "        \"processed_output\": processed_res\n",
        "    }\n",
        "\n",
        "  return processed_recipe\n"
      ],
      "metadata": {
        "id": "JEyXgTS4I9GS"
      },
      "execution_count": 132,
      "outputs": []
    },
    {
      "cell_type": "code",
      "source": [
        "def get_processed_recipe_dataset(client,temp,topp,raw_recipe_dataset):\n",
        "\n",
        "  out_list = []\n",
        "\n",
        "  for recipe_id, eachRecipe in raw_recipe_dataset.items():\n",
        "\n",
        "    #pass recipe to GPT\n",
        "    ingredients_str = ', '.join(eachRecipe['ingredients'])\n",
        "    prompt_recipe_process = recipe_process_prompt.format(eachRecipe[\"title\"],eachRecipe[\"instructions\"],ingredients_str)\n",
        "    response = get_API_response(client, in_prompt=prompt_recipe_process, user_input=\"\", temp=temp, topp=topp)\n",
        "    #print(response)\n",
        "    # get processed recipe\n",
        "    processed_recipe =  process_API_res_get_processed_recipe(response,recipe_id,eachRecipe)\n",
        "    out_list.append(processed_recipe)\n",
        "\n",
        "  return out_list"
      ],
      "metadata": {
        "id": "_TkprNFRKkXE"
      },
      "execution_count": 133,
      "outputs": []
    },
    {
      "cell_type": "code",
      "source": [
        "#Get testing file\n",
        "with open(\"sampled_test_data.json\", \"r\") as f:\n",
        "    recipe_dataset = json.load(f)"
      ],
      "metadata": {
        "id": "X23V0Yps-b1g"
      },
      "execution_count": 134,
      "outputs": []
    },
    {
      "cell_type": "code",
      "source": [
        "recipe_process_prompt = '''\n",
        "You are a helpful assistant that can process the following recipe:\n",
        "\n",
        "title = {0}\n",
        "Instructions = {1}\n",
        "Ingredients = {2}\n",
        "\n",
        "The output must contains the following attributes:\n",
        "- step_by_step_instructions: Instructions broken into steps.\n",
        "- main_ingredients: Key ingredients. Only include ingredient name.\n",
        "- less_important_ingredients: Less important ingredients. Only include ingredient name.\n",
        "- cooking_methods: All required cooking methods (e.g., baking, frying)\n",
        "- cooking_time: Estimated total cooking time\n",
        "- required_tools: List of necessary tools\n",
        "- dietary_labels: Dietary tags (e.g., vegan, gluten-free)\n",
        "- nutrition_value: Please calculate the calories in for each recipe\n",
        "- meet_daily_nutrition_need: Specify if the calcualted calories meet the daily nutrition need (~2,000 to 2,200 calories per day). Only output \"true\" or \"false\".\n",
        "\n",
        "The output must be a string in JSON format that contains the above attributes. Do not need to specify the format type(i.e. json) at the beginning of the output string\n",
        "\n",
        "'''"
      ],
      "metadata": {
        "id": "4N2anRX6-ilN"
      },
      "execution_count": 141,
      "outputs": []
    },
    {
      "cell_type": "code",
      "source": [
        "#Init the client\n",
        "recipe_data_process_client = OpenAI(\n",
        "    # This is the default and can be omitted\n",
        "    api_key=api_key,\n",
        ")\n",
        "temp = 1\n",
        "topp = 1\n",
        "\n",
        "test_recipes = random.sample(list(recipe_dataset.items()), 10)\n",
        "test_recipes = dict(test_recipes)\n",
        "\n",
        "processed_recipe_list = get_processed_recipe_dataset(recipe_data_process_client,temp,topp,test_recipes)\n"
      ],
      "metadata": {
        "id": "aopBiTcZ_VsL"
      },
      "execution_count": 142,
      "outputs": []
    },
    {
      "cell_type": "code",
      "source": [
        "with open(\"test_processed_recipes.json\", \"w\") as file:\n",
        "    json.dump(processed_recipe_list, file, indent=4)\n",
        "\n",
        "print(\"processed_recipe_list has been saved\")"
      ],
      "metadata": {
        "colab": {
          "base_uri": "https://localhost:8080/"
        },
        "id": "9wNLeWg_Cfob",
        "outputId": "4ac29e8f-eebf-4ba3-fad6-c413e722cd08"
      },
      "execution_count": 143,
      "outputs": [
        {
          "output_type": "stream",
          "name": "stdout",
          "text": [
            "processed_recipe_list has been saved\n"
          ]
        }
      ]
    },
    {
      "cell_type": "markdown",
      "source": [
        "### Ingredient-Nutrient Mapping\n",
        "\n",
        "Use https://produits-sante.canada.ca/api/documentation/cnf-documentation-en.html\n",
        "\n",
        "Step1: Use food descriptio to get food_code\n",
        "\n",
        "Step2: Use the food_code to get nutrient amount(s) (nutrient value and nutrient_name_id)\n",
        "\n",
        "Step 3: Use nutrient_name_id to get nutrient_name\n"
      ],
      "metadata": {
        "id": "zn7ndtKDQ-XG"
      }
    },
    {
      "cell_type": "code",
      "source": [
        "all_ingredients = set() #unique set\n",
        "\n",
        "for eachRecipe in processed_recipe_list:\n",
        "    main_ingredients = eachRecipe[\"processed_output\"].get(\"main_ingredients\", [])\n",
        "    less_important_ingredients = eachRecipe[\"processed_output\"].get(\"less_important_ingredients\", [])\n",
        "\n",
        "    all_ingredients.update(main_ingredients)\n",
        "    all_ingredients.update(less_important_ingredients)\n",
        "\n",
        "\n",
        "all_ingredients_list = sorted(all_ingredients)\n",
        "print(all_ingredients_list)"
      ],
      "metadata": {
        "colab": {
          "base_uri": "https://localhost:8080/"
        },
        "id": "JV_oMdO0RDkv",
        "outputId": "a2f06561-68c2-4038-a014-5e8683640197"
      },
      "execution_count": 145,
      "outputs": [
        {
          "output_type": "stream",
          "name": "stdout",
          "text": [
            "['Ancho chile powder', 'Basic tomato sauce', 'Boneless rib-eyes', 'Butter', 'Canola oil', 'Carrot', 'Chicken stock', 'Chives', 'Cinzano Rosso sweet vermouth', 'Cream', 'Dijon mustard', 'Dried oregano', 'Dry mustard', 'Freshly ground pepper', 'Garlic', 'Ground coriander', 'Ground cumin', 'Honey', 'Horseradish', 'Ketchup', 'Kosher salt', 'Milk', 'Molasses', 'Old Fashioned Frosting', 'Olive oil', 'Osetra caviar', 'Pepper', 'Russet potatoes', 'Salt', 'Seasoned flour', 'Sour cream', 'Spanish onions', 'Speck', 'Sweet paprika', 'Thyme', 'Tomatoes', 'Venison', 'Waxy potatoes', 'Whole-grain mustard', 'all-purpose flour', 'bacon', 'baking powder', 'baking soda', 'black pepper', 'bok choy', 'butter', 'cake flour', 'cayenne pepper', 'celery seeds', 'cider vinegar', 'coarse salt', \"confectioners' sugar\", 'dry mustard', 'dry pectin', 'egg white', 'eggs', 'fresh flat-leafed parsley leaves', 'freshly grated nutmeg', 'freshly ground pepper', 'garlic', 'granulated sugar', 'ground anise', 'ground cinnamon', 'ground cloves', 'ground ginger', 'ground turmeric', 'kosher salt', 'lemon zest', 'light brown sugar', 'lobster knuckle meat', 'lobster stock', 'minced garlic', 'minced ginger', 'mustard seeds', 'onion', 'pickling cucumbers or Kirbies', 'plain flour', 'rabbit', 'red bell pepper', 'rice wine vinegar', 'salt', 'sliced blanched almonds', 'sorrel or sage leaves', 'sugar', 'unbleached all-purpose flour', 'unsalted butter', 'vanilla extract', 'white distilled vinegar', 'white wine', 'whole milk', 'yellow onions', 'zucchini or yellow squash']\n"
          ]
        }
      ]
    },
    {
      "cell_type": "code",
      "source": [],
      "metadata": {
        "id": "mf5f_CtfRbEY"
      },
      "execution_count": null,
      "outputs": []
    }
  ]
}