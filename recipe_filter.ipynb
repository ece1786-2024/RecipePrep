{
  "nbformat": 4,
  "nbformat_minor": 0,
  "metadata": {
    "colab": {
      "provenance": []
    },
    "kernelspec": {
      "name": "python3",
      "display_name": "Python 3"
    },
    "language_info": {
      "name": "python"
    }
  },
  "cells": [
    {
      "cell_type": "markdown",
      "source": [
        "#### filter recipes, retaining only recipes with health score of 3 or higher"
      ],
      "metadata": {
        "id": "cwOn5GNr58z5"
      }
    },
    {
      "cell_type": "code",
      "execution_count": null,
      "metadata": {
        "id": "6IeKFJcq45M5"
      },
      "outputs": [],
      "source": [
        "import json"
      ]
    },
    {
      "cell_type": "code",
      "source": [
        "from google.colab import drive\n",
        "drive.mount('/content/drive')"
      ],
      "metadata": {
        "colab": {
          "base_uri": "https://localhost:8080/"
        },
        "id": "0t1_TC566cUI",
        "outputId": "1d198a93-298c-46b7-e31d-564c17f136b0"
      },
      "execution_count": null,
      "outputs": [
        {
          "output_type": "stream",
          "name": "stdout",
          "text": [
            "Drive already mounted at /content/drive; to attempt to forcibly remount, call drive.mount(\"/content/drive\", force_remount=True).\n"
          ]
        }
      ]
    },
    {
      "cell_type": "code",
      "source": [
        "def filter(input_path,output_path,min_score):\n",
        "  with open(input_path,'r') as file:\n",
        "    recipes=json.load(file)\n",
        "  filtered_recipes=[]\n",
        "  for i,recipe in enumerate(recipes):\n",
        "    try:\n",
        "      health_score=recipe.get(\"total_health_score\")\n",
        "      if health_score>=min_score:\n",
        "        filtered_recipes.append(recipe)\n",
        "    except TypeError:\n",
        "      continue\n",
        "  with open(output_path+f\"filtered_recipes_400_5_{len(filtered_recipes)}.json\",'w') as file:\n",
        "    json.dump(filtered_recipes,file,indent=4)\n",
        "\n"
      ],
      "metadata": {
        "id": "giKVNJX86iZw"
      },
      "execution_count": null,
      "outputs": []
    },
    {
      "cell_type": "markdown",
      "source": [
        "Filter processed recipes"
      ],
      "metadata": {
        "id": "EVn9JnEi2MCU"
      }
    },
    {
      "cell_type": "code",
      "source": [
        "input_file_path=\"/content/drive/MyDrive/ECE1786/scored_recipes_init_400_batch_5.json\"\n",
        "output_file_path=\"/content/drive/MyDrive/ECE1786/\"\n",
        "min_score=3\n",
        "filter(input_file_path,output_file_path,min_score)"
      ],
      "metadata": {
        "id": "MEcRSz6X7jOC"
      },
      "execution_count": null,
      "outputs": []
    },
    {
      "cell_type": "markdown",
      "source": [
        "Merge all the filtered recipes"
      ],
      "metadata": {
        "id": "FGc_qSvr2TQ3"
      }
    },
    {
      "cell_type": "code",
      "source": [
        "file_path1=\"/content/drive/MyDrive/ECE1786/filtered_recipes_400_211.json\"\n",
        "file_path2=\"/content/drive/MyDrive/ECE1786/filtered_recipes_250_134.json\"\n",
        "file_path3=\"/content/drive/MyDrive/ECE1786/filtered_recipes_74.json\"\n",
        "\n",
        "all_recipes = []\n",
        "\n",
        "# Loop through each JSON file\n",
        "with open(file_path1, \"r\") as file:\n",
        "  recipes = json.load(file)  # Load the array of recipes\n",
        "  all_recipes.extend(recipes)  # Add recipes to the combined list\n",
        "\n",
        "with open(file_path2, \"r\") as file:\n",
        "  recipes = json.load(file)  # Load the array of recipes\n",
        "  all_recipes.extend(recipes)  # Add recipes to the combined list\n",
        "\n",
        "with open(file_path3, \"r\") as file:\n",
        "  recipes = json.load(file)  # Load the array of recipes\n",
        "  all_recipes.extend(recipes)  # Add recipes to the combined list\n",
        "\n",
        "# Save the combined recipes to a new JSON file\n",
        "combined_file_path = \"/content/drive/MyDrive/ECE1786/filtered_recipes_419.json\"\n",
        "with open(combined_file_path, \"w\") as combined_file:\n",
        "    json.dump(all_recipes, combined_file, indent=2)"
      ],
      "metadata": {
        "id": "Fl8IFXARIZOW"
      },
      "execution_count": null,
      "outputs": []
    }
  ]
}