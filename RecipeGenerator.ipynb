{
  "nbformat": 4,
  "nbformat_minor": 0,
  "metadata": {
    "colab": {
      "provenance": []
    },
    "kernelspec": {
      "name": "python3",
      "display_name": "Python 3"
    },
    "language_info": {
      "name": "python"
    }
  },
  "cells": [
    {
      "cell_type": "code",
      "source": [
        "from openai import OpenAI\n",
        "import json"
      ],
      "metadata": {
        "id": "2Vk9IaPdQ32d"
      },
      "execution_count": 47,
      "outputs": []
    },
    {
      "cell_type": "code",
      "source": [
        "from google.colab import drive\n",
        "drive.mount('/content/drive')\n",
        "%cd /content/drive/MyDrive/U OF T/MIE/ECE1786/Project"
      ],
      "metadata": {
        "colab": {
          "base_uri": "https://localhost:8080/"
        },
        "id": "k0LEPDeRRBVa",
        "outputId": "e0fccc72-882e-491d-f12a-d09ed4a38993"
      },
      "execution_count": 14,
      "outputs": [
        {
          "output_type": "stream",
          "name": "stdout",
          "text": [
            "Drive already mounted at /content/drive; to attempt to forcibly remount, call drive.mount(\"/content/drive\", force_remount=True).\n",
            "/content/drive/MyDrive/U OF T/MIE/ECE1786/Project\n"
          ]
        }
      ]
    },
    {
      "cell_type": "markdown",
      "source": [
        "## Recipe Generation"
      ],
      "metadata": {
        "id": "WXRgATULfYGm"
      }
    },
    {
      "cell_type": "code",
      "source": [
        "# evaluation criteria; sample recipes; user input\n",
        "# quantitative comparison result"
      ],
      "metadata": {
        "id": "6sDq2IRdfaPc"
      },
      "execution_count": 49,
      "outputs": []
    },
    {
      "cell_type": "code",
      "source": [
        "client = OpenAI(api_key=\"\")\n",
        "file_path = \"/content/drive/MyDrive/U OF T/MIE/ECE1786/Project/test_processed_recipes.json\""
      ],
      "metadata": {
        "id": "TV62TLnpO1Cy"
      },
      "execution_count": 53,
      "outputs": []
    },
    {
      "cell_type": "code",
      "source": [
        "def get_sys_prompt(file_path):\n",
        "  sample_recipe = load_file_content(file_path)\n",
        "  recipe_examples = []\n",
        "  for recipe in sample_recipe:\n",
        "    # Extract title, ingredients, and instructions safely\n",
        "    title = recipe.get(\"recipe_title\", \"Untitled Recipe\")\n",
        "    ingredients = recipe.get(\"ingredients\", [])\n",
        "    instructions = recipe.get(\"processed_output\", {}).get(\"step_by_step_instructions\", [])\n",
        "\n",
        "    # Format the extracted recipe as a string\n",
        "    formatted_recipe = (\n",
        "        f\"Title: {title}\\n\"\n",
        "        f\"Ingredients: {', '.join(ingredients)}\\n\"\n",
        "        f\"Instructions: {' '.join(instructions)}\\n\"\n",
        "    )\n",
        "    recipe_examples.append(formatted_recipe)\n",
        "\n",
        "  sample_recipes_text = \"\\n\\n\".join(recipe_examples)\n",
        "\n",
        "  sys_prompt = f'''\n",
        "    You are a helpful assistant that can generate a healthy recipe based on a sample recipe and evaluate its health score.\n",
        "\n",
        "    Here's the evaluation criteria:\n",
        "    You only need to consider 7 key macronutrients and their ranges to assess a recipe's healthiness:\n",
        "    Proteins: 10%-15% of total energy\n",
        "    Carbohydrates: 55%-75% of total energy\n",
        "    Sugars: less than 10% of total energy\n",
        "    Sodium: less than 5 grams\n",
        "    Fats: 15%-30% of total energy\n",
        "    Saturated Fats: less than 10% of total energy\n",
        "    Fibers: more than 25 grams\n",
        "\n",
        "    The instructions of the evaluation metric:\n",
        "    1. For each nutrient, evaluate whether its amount in the recipe falls within the given range.\n",
        "    2. Assign 1 point for each nutrient that falls within the range, and 0 points for each nutrient that falls out of the range.\n",
        "    3. Add all the points to get the health score. The range of the health score is from 0 to 7.\n",
        "\n",
        "    Here's a sample recipe:\n",
        "    {sample_recipes_text}\n",
        "\n",
        "    The sample evaluation result and health score for the first recipe:\n",
        "    Summary of Points:\n",
        "    Proteins: 0 points\n",
        "    Carbohydrates: 1 point (potatoes provide substantial carbohydrates)\n",
        "    Sugars: 1 point (natural sugars in potatoes and cream are likely to be less than 10% of total energy)\n",
        "    Sodium: 1 point (assuming moderate salt use, likely to stay under 5 grams)\n",
        "    Fats: 1 point (butter, olive oil, cream are high in fats, possibly within the 15%-30% range)\n",
        "    Saturated Fats: 0 points (butter, cream, and sour cream likely push this over 10%)\n",
        "    Fibers: 0 points (likely less than 25 grams, as potatoes are not high in fibers)\n",
        "    Total Health Score: 4\n",
        "\n",
        "    Now, your job is to generate a recipe that has the highest health score based on the user input of the ingredients and cooking tools.\n",
        "    Note, you must only use the ingredients that the user have.\n",
        "    Provide the instructions line by line and number them.\n",
        "    Then, evaluate the recipe you generated based on the evaluation criteria.\n",
        "    The format of the recipe and evaluation result should be the same as the sample recipe and sample evaluation result.\n",
        "    Lastly, provide some suggestions to the recipe based on the evaluation result.\n",
        "  '''\n",
        "  return sys_prompt"
      ],
      "metadata": {
        "id": "P0y51MpuhpZC"
      },
      "execution_count": 50,
      "outputs": []
    },
    {
      "cell_type": "code",
      "source": [
        "def load_file_content(file_path):\n",
        "    \"\"\"Loads and returns the content of the file as a string.\"\"\"\n",
        "    try:\n",
        "        with open(file_path, \"r\") as file:\n",
        "            return json.load(file)\n",
        "    except FileNotFoundError:\n",
        "        return \"File not found. Please check the file path.\""
      ],
      "metadata": {
        "id": "1kaasVTvf7rk"
      },
      "execution_count": 20,
      "outputs": []
    },
    {
      "cell_type": "code",
      "source": [
        "def get_recipe(client, ingredients, tools, temp, topp, file_path):\n",
        "\n",
        "    user_prompt = (\n",
        "        f\"I have the following ingredients: {', '.join(ingredients)}.\\n\"\n",
        "        f\"I also have these cooking tools: {', '.join(tools)}.\\n\"\n",
        "    )\n",
        "    sys_prompt = get_sys_prompt(file_path)\n",
        "\n",
        "    try:\n",
        "        completion = client.chat.completions.create(\n",
        "            model=\"gpt-4o\",\n",
        "            messages=[\n",
        "                {\"role\": \"system\", \"content\": sys_prompt},\n",
        "                {\"role\": \"user\", \"content\": user_prompt}\n",
        "            ],\n",
        "            temperature=temp,\n",
        "            top_p=topp\n",
        "        )\n",
        "\n",
        "        return completion.choices[0].message.content.strip()\n",
        "    except Exception as e:\n",
        "        return f\"An error occurred: {e}\""
      ],
      "metadata": {
        "id": "Z3H5t5S2OMsB"
      },
      "execution_count": 54,
      "outputs": []
    },
    {
      "cell_type": "code",
      "source": [
        "# main\n",
        "print(\"Welcome to RecipePrep!\")\n",
        "\n",
        "ingredients_input = input(\"Enter your ingredients, separated by commas: \").strip().split(\",\")\n",
        "avail_ingredients = [ingredient.strip() for ingredient in ingredients_input]\n",
        "\n",
        "tools_input = input(\"Enter your cooking tools, separated by commas: \").strip().split(\",\")\n",
        "avail_tools = [tool.strip() for tool in tools_input]\n",
        "\n",
        "# Generate recipe using the inputs\n",
        "print(\"\\nGenerating your recipe...\\n\")\n",
        "recipe = get_recipe(client, avail_ingredients, avail_tools, 1, 1, file_path)\n",
        "print(\"Here's your recipe:\\n\")\n",
        "print(recipe)"
      ],
      "metadata": {
        "colab": {
          "base_uri": "https://localhost:8080/"
        },
        "id": "_CflVXN9OJNL",
        "outputId": "123845de-7a0c-44ef-cf8b-e7604bd5cd6b"
      },
      "execution_count": 55,
      "outputs": [
        {
          "output_type": "stream",
          "name": "stdout",
          "text": [
            "Welcome to RecipePrep!\n",
            "Enter your ingredients, separated by commas: chicken, onion, garlic, salt, sugar\n",
            "Enter your cooking tools, separated by commas: pots, oven\n",
            "\n",
            "Generating your recipe...\n",
            "\n",
            "Here's your recipe:\n",
            "\n",
            "Title: Garlic Chicken with Onions\n",
            "\n",
            "Ingredients: \n",
            "- 2 chicken breasts\n",
            "- 2 onions, sliced\n",
            "- 4 cloves of garlic, minced\n",
            "- 1 teaspoon salt\n",
            "- 1 teaspoon sugar\n",
            "\n",
            "Instructions:\n",
            "1. Preheat the oven to 375°F (190°C).\n",
            "2. In a large pot, place the sliced onions and minced garlic evenly across the bottom.\n",
            "3. Place the chicken breasts on top of the onions and garlic.\n",
            "4. Season the chicken with salt.\n",
            "5. Sprinkle sugar evenly over the chicken and onions.\n",
            "6. Cover the pot and place it in the preheated oven.\n",
            "7. Bake for about 45 minutes, or until the chicken is cooked through and the onions are caramelized.\n",
            "8. Once cooked, remove the pot from the oven and let it rest for 5 minutes before serving.\n",
            "\n",
            "Evaluation Result:\n",
            "\n",
            "Summary of Points:\n",
            "- Proteins: 1 point (chicken is a good source of protein)\n",
            "- Carbohydrates: 1 point (although not abundant, onions and sugar provide some carbohydrates)\n",
            "- Sugars: 1 point (sugar content is kept minimal and likely less than 10% of total energy)\n",
            "- Sodium: 1 point (1 teaspoon salt sounds very moderate, under 5 grams)\n",
            "- Fats: 0 points (minimal fats present, possibly below the 15% threshold)\n",
            "- Saturated Fats: 1 point (minimal saturated fats present)\n",
            "- Fibers: 0 points (onion provides some fibers but likely not over 25 grams)\n",
            "\n",
            "Total Health Score: 5\n",
            "\n",
            "Suggestions:\n",
            "1. To increase the fiber content, consider adding some high-fiber vegetables like carrots or sweet potatoes. This can also help boost the carbohydrates content.\n",
            "2. If available, adding a small amount of healthy fat like olive oil can help reach the desired fat percentage range.\n",
            "3. Incorporating vegetables like bell peppers or spinach would enhance nutritional value and variety in taste.\n"
          ]
        }
      ]
    }
  ]
}