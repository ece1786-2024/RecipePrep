{
 "cells": [
  {
   "cell_type": "markdown",
   "metadata": {
    "id": "CIvHEdY3b3_c"
   },
   "source": [
    "# Calculate Health Score Using RAG"
   ]
  },
  {
   "cell_type": "code",
   "execution_count": null,
   "metadata": {
    "colab": {
     "base_uri": "https://localhost:8080/"
    },
    "executionInfo": {
     "elapsed": 7905,
     "status": "ok",
     "timestamp": 1732996680040,
     "user": {
      "displayName": "CJ Yu",
      "userId": "11840522882073475963"
     },
     "user_tz": 300
    },
    "id": "uJQ_ZPY8blU4",
    "outputId": "bd3a07fd-6baf-4096-da90-5832f62c5b5d"
   },
   "outputs": [],
   "source": [
    "pip install -qU langchain-openai\n"
   ]
  },
  {
   "cell_type": "code",
   "execution_count": null,
   "metadata": {
    "colab": {
     "base_uri": "https://localhost:8080/"
    },
    "executionInfo": {
     "elapsed": 22791,
     "status": "ok",
     "timestamp": 1732996704423,
     "user": {
      "displayName": "CJ Yu",
      "userId": "11840522882073475963"
     },
     "user_tz": 300
    },
    "id": "2dtpiSKyb-7W",
    "outputId": "ccba37eb-fbef-4015-e007-4171a7dd5d83"
   },
   "outputs": [],
   "source": [
    "pip install langchain-community\n"
   ]
  },
  {
   "cell_type": "code",
   "execution_count": null,
   "metadata": {
    "colab": {
     "base_uri": "https://localhost:8080/"
    },
    "executionInfo": {
     "elapsed": 3772,
     "status": "ok",
     "timestamp": 1732996787003,
     "user": {
      "displayName": "CJ Yu",
      "userId": "11840522882073475963"
     },
     "user_tz": 300
    },
    "id": "0OMoejc6cbqh",
    "outputId": "78e300d3-6cb3-4e28-b626-3265417baa34"
   },
   "outputs": [],
   "source": [
    "pip install jq\n"
   ]
  },
  {
   "cell_type": "code",
   "execution_count": null,
   "metadata": {
    "colab": {
     "base_uri": "https://localhost:8080/"
    },
    "executionInfo": {
     "elapsed": 26238,
     "status": "ok",
     "timestamp": 1732996822239,
     "user": {
      "displayName": "CJ Yu",
      "userId": "11840522882073475963"
     },
     "user_tz": 300
    },
    "id": "HvZtMv_ccdzB",
    "outputId": "975eda6d-5c8d-42e8-f119-2260f20ed40f"
   },
   "outputs": [],
   "source": [
    "pip install langchain-chroma"
   ]
  },
  {
   "cell_type": "code",
   "execution_count": 5,
   "metadata": {
    "colab": {
     "base_uri": "https://localhost:8080/"
    },
    "executionInfo": {
     "elapsed": 12178,
     "status": "ok",
     "timestamp": 1732996836077,
     "user": {
      "displayName": "CJ Yu",
      "userId": "11840522882073475963"
     },
     "user_tz": 300
    },
    "id": "woNY1hYiclEC",
    "outputId": "67225ed3-c8b0-47b2-e56e-d1c807947f35"
   },
   "outputs": [
    {
     "name": "stdout",
     "output_type": "stream",
     "text": [
      "··········\n"
     ]
    }
   ],
   "source": [
    "import getpass\n",
    "import os\n",
    "\n",
    "os.environ[\"OPENAI_API_KEY\"]=getpass.getpass()\n",
    "\n",
    "from langchain_openai import ChatOpenAI\n",
    "\n",
    "llm=ChatOpenAI(model=\"gpt-4o\")"
   ]
  },
  {
   "cell_type": "code",
   "execution_count": 6,
   "metadata": {
    "colab": {
     "base_uri": "https://localhost:8080/"
    },
    "executionInfo": {
     "elapsed": 13450,
     "status": "ok",
     "timestamp": 1732996851616,
     "user": {
      "displayName": "CJ Yu",
      "userId": "11840522882073475963"
     },
     "user_tz": 300
    },
    "id": "FUJ4sG5Rcpfu",
    "outputId": "aae069af-0ac4-4863-ed83-86bf91b87e6a"
   },
   "outputs": [
    {
     "name": "stdout",
     "output_type": "stream",
     "text": [
      "Mounted at /content/drive\n"
     ]
    }
   ],
   "source": [
    "from google.colab import drive\n",
    "drive.mount('/content/drive')"
   ]
  },
  {
   "cell_type": "code",
   "execution_count": 7,
   "metadata": {
    "executionInfo": {
     "elapsed": 395,
     "status": "ok",
     "timestamp": 1732996854137,
     "user": {
      "displayName": "CJ Yu",
      "userId": "11840522882073475963"
     },
     "user_tz": 300
    },
    "id": "g-WuPafecsHP"
   },
   "outputs": [],
   "source": [
    "import json\n",
    "from langchain_community.document_loaders import JSONLoader\n",
    "from pathlib import Path\n",
    "from pprint import pprint\n",
    "\n",
    "def metadata_fuc(record:dict, metadata:dict)->dict:\n",
    "  metadata[\"ingredient_name\"]=record.get(\"ingredient_name\")\n",
    "  metadata[\"nutrients\"]=''.join(map(str,record.get(\"nutrients\")))\n",
    "  return metadata\n",
    "\n",
    "file_path='/content/drive/MyDrive/ECE1786/ingredient_nutrient_map_5.json'\n",
    "# can be modified according to the structure of the nutrient map\n",
    "loader=JSONLoader(\n",
    "    file_path=file_path,\n",
    "    jq_schema=\".[]\",\n",
    "    content_key=\"ingredient_name\",\n",
    "    metadata_func=metadata_fuc\n",
    ")\n",
    "data=loader.load()"
   ]
  },
  {
   "cell_type": "code",
   "execution_count": 8,
   "metadata": {
    "colab": {
     "base_uri": "https://localhost:8080/"
    },
    "executionInfo": {
     "elapsed": 62,
     "status": "ok",
     "timestamp": 1732996856093,
     "user": {
      "displayName": "CJ Yu",
      "userId": "11840522882073475963"
     },
     "user_tz": 300
    },
    "id": "vXWjaqVMd6dW",
    "outputId": "99e38c99-2518-4618-c70c-8c12c360c0f0"
   },
   "outputs": [
    {
     "name": "stdout",
     "output_type": "stream",
     "text": [
      "{'value': 0, 'nutrient_name': 'Protein', 'unit': 'g'}{'value': 0, 'nutrient_name': 'Carbohydrate', 'unit': 'g'}{'value': 0, 'nutrient_name': 'Sugars, total', 'unit': 'g'}{'value': 0, 'nutrient_name': 'Fibre, total dietary', 'unit': 'g'}{'value': 0, 'nutrient_name': 'Sodium, Na', 'unit': 'mg'}{'value': 9.1, 'nutrient_name': 'Fatty acids, saturated, total', 'unit': 'g'}{'value': 100, 'nutrient_name': 'Total Fat', 'unit': 'g'}{'value': 885, 'nutrient_name': 'Energy (kcal)', 'unit': 'kCal'}{'value': 3699, 'nutrient_name': 'Energy (kJ)', 'unit': 'kJ'}\n"
     ]
    }
   ],
   "source": [
    "print(data[0].metadata.get(\"nutrients\"))"
   ]
  },
  {
   "cell_type": "markdown",
   "metadata": {
    "id": "i4AfyTYUcw7n"
   },
   "source": [
    "## split documents into chunks for embedding and vector storage"
   ]
  },
  {
   "cell_type": "code",
   "execution_count": 9,
   "metadata": {
    "executionInfo": {
     "elapsed": 88,
     "status": "ok",
     "timestamp": 1732996859119,
     "user": {
      "displayName": "CJ Yu",
      "userId": "11840522882073475963"
     },
     "user_tz": 300
    },
    "id": "0R9ymk9Oc3Ka"
   },
   "outputs": [],
   "source": [
    "from langchain_text_splitters import RecursiveCharacterTextSplitter\n",
    "\n",
    "text_splitter = RecursiveCharacterTextSplitter(\n",
    "    chunk_size=1000, chunk_overlap=200, add_start_index=True\n",
    ")\n",
    "all_splits = text_splitter.split_documents(data)"
   ]
  },
  {
   "cell_type": "code",
   "execution_count": 10,
   "metadata": {
    "executionInfo": {
     "elapsed": 4207,
     "status": "ok",
     "timestamp": 1732996865040,
     "user": {
      "displayName": "CJ Yu",
      "userId": "11840522882073475963"
     },
     "user_tz": 300
    },
    "id": "kB6TtKc1c-6A"
   },
   "outputs": [],
   "source": [
    "from langchain_chroma import Chroma\n",
    "from langchain_openai import OpenAIEmbeddings\n",
    "\n",
    "\n",
    "vectorstore=Chroma.from_documents(documents=all_splits,embedding=OpenAIEmbeddings())"
   ]
  },
  {
   "cell_type": "markdown",
   "metadata": {
    "id": "UhD7OocUdBqu"
   },
   "source": [
    "## Retrieve"
   ]
  },
  {
   "cell_type": "code",
   "execution_count": 11,
   "metadata": {
    "executionInfo": {
     "elapsed": 53,
     "status": "ok",
     "timestamp": 1732996866872,
     "user": {
      "displayName": "CJ Yu",
      "userId": "11840522882073475963"
     },
     "user_tz": 300
    },
    "id": "7-dT0vAwdDnp"
   },
   "outputs": [],
   "source": [
    "retriever=vectorstore.as_retriever(search_type=\"similarity\",search_kwargs={\"k\":1})\n",
    "\n",
    "# retrieve the most similar food description and its nutrients\n",
    "def retrieve_food_and_nutrients(retriever,query):\n",
    "  results=retriever.get_relevant_documents(query)\n",
    "  if not results:\n",
    "    return None,None\n",
    "  best_match=results[0]\n",
    "  ingredient_name=best_match.metadata.get(\"ingredient_name\")\n",
    "  nutrients=best_match.metadata.get(\"nutrients\")\n",
    "\n",
    "  return ingredient_name, nutrients"
   ]
  },
  {
   "cell_type": "markdown",
   "metadata": {
    "id": "Dne8B5LrdNk7"
   },
   "source": [
    "## Generate"
   ]
  },
  {
   "cell_type": "code",
   "execution_count": 12,
   "metadata": {
    "executionInfo": {
     "elapsed": 67,
     "status": "ok",
     "timestamp": 1732996883020,
     "user": {
      "displayName": "CJ Yu",
      "userId": "11840522882073475963"
     },
     "user_tz": 300
    },
    "id": "rklUummkdO6W"
   },
   "outputs": [],
   "source": [
    "# change value with different units to gram\n",
    "# the format of ingredient_dict: e.g.{'value': '3', 'unit': 'tablespoon', 'name': 'rice vinegar'}\n",
    "# 3 tablespoons rice vinegar\n",
    "def convert_to_grams(ingredient_dict):\n",
    "  convert_table={\n",
    "      'tablespoon':17.07,\n",
    "      'teaspoon': 5.69,\n",
    "      'ounce':28.35,\n",
    "      'cup':150.00,\n",
    "      'lb':453.59,\n",
    "      'pound':453.59,\n",
    "      'tbsp':17.07,\n",
    "      'tsp':5.69,\n",
    "      'oz':28.35,\n",
    "      'kg':1000.00,\n",
    "      'kilogram':1000.00,\n",
    "      'gram': 1.00,\n",
    "      'g':1.00,\n",
    "      'mg': 0.001\n",
    "      }\n",
    "  unit=ingredient_dict['unit']\n",
    "  value=ingredient_dict['value']\n",
    "  convert_factor=convert_table.get(unit,None)\n",
    "  try:\n",
    "    numeric_value=eval(value)\n",
    "    convert_value=numeric_value * convert_factor if convert_factor else 100\n",
    "  except:\n",
    "    convert_value=100\n",
    "  ingredient_dict['value']=convert_value\n",
    "  ingredient_dict['unit']='gram'\n",
    "  return ingredient_dict\n"
   ]
  },
  {
   "cell_type": "code",
   "execution_count": 24,
   "metadata": {
    "executionInfo": {
     "elapsed": 85,
     "status": "ok",
     "timestamp": 1733002431872,
     "user": {
      "displayName": "CJ Yu",
      "userId": "11840522882073475963"
     },
     "user_tz": 300
    },
    "id": "SYd3ItNcbrm5"
   },
   "outputs": [],
   "source": [
    "import re\n",
    "\n",
    "def get_health_score_with_rag(retriever,recipe):\n",
    "  ingredients=recipe.get(\"processed_ingredients\")\n",
    "  pure_ingredients=recipe.get(\"pure_ingredients\")\n",
    "  nutrient_map={\n",
    "      \"Protein\":0,\n",
    "      \"Carbohydrate\":0,\n",
    "      \"Sugars, total\":0,\n",
    "      \"Sodium, Na\":0,\n",
    "      \"Total Fat\":0,\n",
    "      \"Fatty acids, saturated, total\":0,\n",
    "      \"Fibre, total dietary\": 0,\n",
    "      \"Energy (kJ)\": 0,\n",
    "  }\n",
    "\n",
    "  for i,ingredient in enumerate(ingredients):\n",
    "    match = re.match(r\"([\\d\\s/]+)\\s*([a-zA-Z]+)?\\s*(.*)\", ingredient)\n",
    "    if match:\n",
    "      value = match.group(1).strip()\n",
    "      unit = match.group(2) if match.group(2) else \"\"\n",
    "      if len(pure_ingredients)==len(ingredients):\n",
    "        name = pure_ingredients[i]\n",
    "      else:\n",
    "        name = match.group(3).strip()\n",
    "\n",
    "\n",
    "      if unit.endswith(\"s\"):  # Handle plural forms\n",
    "        unit = unit[:-1]\n",
    "      parsed_ingredient={\"value\": value, \"unit\": unit, \"name\": name}\n",
    "      ingredient_dict=convert_to_grams(parsed_ingredient)\n",
    "      matched_ingredient,nutrients=retrieve_food_and_nutrients(retriever,ingredient_dict[\"name\"])\n",
    "      print(matched_ingredient)\n",
    "      # print(nutrients)\n",
    "      nutrient_pattern = r\"'value': ([\\d.]+), 'nutrient_name': '([^']+)'\"\n",
    "      matches=re.findall(nutrient_pattern,nutrients)\n",
    "      print(matches)\n",
    "      for value,name in matches:\n",
    "        if name in nutrient_map:\n",
    "          nutrient_map[name]+=float(value)*ingredient_dict[\"value\"]/100\n",
    "\n",
    "  health_score=0\n",
    "  score_summary={\n",
    "      \"Proteins\": 0,\n",
    "      \"Carbohydrates\": 0,\n",
    "      \"Sugars\": 0,\n",
    "      \"Sodium\": 0,\n",
    "      \"Fats\": 0,\n",
    "      \"Saturated Fats\": 0,\n",
    "      \"Fibers\": 0\n",
    "  }\n",
    "  # print(nutrient_map)\n",
    "  protein_energy=nutrient_map['Protein']*17\n",
    "  carbo_energy=nutrient_map['Carbohydrate']*17\n",
    "  fat_energy=nutrient_map['Total Fat']*37\n",
    "  sugar_energy=nutrient_map['Sugars, total']*17\n",
    "  sat_fat_energy=nutrient_map['Fatty acids, saturated, total']*37\n",
    "  fiber_energy=nutrient_map['Fibre, total dietary']*8\n",
    "  sodium_energy=nutrient_map['Sodium, Na']*0\n",
    "  total_energy=nutrient_map['Energy (kJ)']\n",
    "\n",
    "  if protein_energy >=total_energy*0.1 and protein_energy<=total_energy*0.35:\n",
    "    health_score+=1\n",
    "    score_summary[\"Proteins\"]=1\n",
    "  if carbo_energy>=total_energy*0.45 and carbo_energy<=total_energy*0.75:\n",
    "    health_score+=1\n",
    "    score_summary[\"Carbohydrates\"]=1\n",
    "  if sugar_energy<=total_energy*0.1:\n",
    "    health_score+=1\n",
    "    score_summary[\"Sugars\"]=1\n",
    "  if nutrient_map['Sodium, Na']<=500:\n",
    "    health_score+=1\n",
    "    score_summary[\"Sodium\"]=1\n",
    "  if fat_energy>=total_energy*0.15 and fat_energy<=total_energy*0.3:\n",
    "    health_score+=1\n",
    "    score_summary[\"Fats\"]=1\n",
    "  if sat_fat_energy<=total_energy*0.10:\n",
    "    health_score+=1\n",
    "    score_summary[\"Saturated Fats\"]=1\n",
    "  if nutrient_map['Fibre, total dietary']>=6:\n",
    "    health_score+=1\n",
    "    score_summary[\"Fibers\"]=1\n",
    "  return health_score, score_summary"
   ]
  },
  {
   "cell_type": "markdown",
   "metadata": {
    "id": "E-CZd4re_U7X"
   },
   "source": [
    "### Test"
   ]
  },
  {
   "cell_type": "code",
   "execution_count": 14,
   "metadata": {
    "colab": {
     "base_uri": "https://localhost:8080/"
    },
    "executionInfo": {
     "elapsed": 2446,
     "status": "ok",
     "timestamp": 1732996923669,
     "user": {
      "displayName": "CJ Yu",
      "userId": "11840522882073475963"
     },
     "user_tz": 300
    },
    "id": "gGjsTLHr_WiQ",
    "outputId": "e6a80668-9976-4eb7-bafa-ea6077a7e1c4"
   },
   "outputs": [
    {
     "name": "stderr",
     "output_type": "stream",
     "text": [
      "<ipython-input-11-c885c3aada65>:5: LangChainDeprecationWarning: The method `BaseRetriever.get_relevant_documents` was deprecated in langchain-core 0.1.46 and will be removed in 1.0. Use :meth:`~invoke` instead.\n",
      "  results=retriever.get_relevant_documents(query)\n"
     ]
    },
    {
     "name": "stdout",
     "output_type": "stream",
     "text": [
      "potato\n",
      "[('0', 'Fatty acids, saturated, total'), ('3.13', 'Total Fat'), ('6.3', 'Fibre, total dietary'), ('9.38', 'Sugars, total'), ('12.5', 'Protein'), ('47.07', 'Carbohydrate'), ('266', 'Energy (kcal)'), ('360', 'Energy (kJ)'), ('375', 'Sodium, Na')]\n",
      "garlic\n",
      "[('0.089', 'Fatty acids, saturated, total'), ('0.5', 'Total Fat'), ('1', 'Sugars, total'), ('2.1', 'Fibre, total dietary'), ('6.36', 'Protein'), ('17', 'Sodium, Na'), ('33.06', 'Carbohydrate'), ('149', 'Energy (kcal)'), ('623', 'Energy (kJ)')]\n",
      "salt\n",
      "[('0', 'Carbohydrate'), ('0', 'Energy (kcal)'), ('0', 'Energy (kJ)'), ('0', 'Sugars, total'), ('0', 'Fibre, total dietary'), ('0', 'Protein'), ('0', 'Total Fat'), ('0', 'Fatty acids, saturated, total'), ('38758', 'Sodium, Na')]\n",
      "pepper\n",
      "[('1.04', 'Protein'), ('1.557', 'Fatty acids, saturated, total'), ('1.8', 'Fibre, total dietary'), ('4.28', 'Sugars, total'), ('6.57', 'Carbohydrate'), ('12.75', 'Total Fat'), ('21', 'Sodium, Na'), ('133', 'Energy (kcal)'), ('555', 'Energy (kJ)')]\n",
      "mustard\n",
      "[('0', 'Sugars, total'), ('0', 'Fibre, total dietary'), ('0', 'Carbohydrate'), ('0', 'Sodium, Na'), ('0', 'Protein'), ('11.582', 'Fatty acids, saturated, total'), ('100', 'Total Fat'), ('885', 'Energy (kcal)'), ('3699', 'Energy (kJ)')]\n",
      "chili\n",
      "[('88', 'Energy (kJ)'), ('397', 'Sodium, Na'), ('0.028', 'Fatty acids, saturated, total'), ('0.27', 'Total Fat'), ('0.72', 'Protein'), ('1.7', 'Fibre, total dietary'), ('4.6', 'Carbohydrate'), ('21', 'Energy (kcal)')]\n",
      "(3, {'Proteins': 0, 'Carbohydrates': 0, 'Sugars': 1, 'Sodium': 0, 'Fats': 0, 'Saturated Fats': 1, 'Fibers': 1})\n"
     ]
    }
   ],
   "source": [
    "file_path=\"/content/drive/MyDrive/ECE1786/processed_recipes_init_200_batch_1.json\"\n",
    "with open(file_path,\"r\") as file:\n",
    "  recipes=json.load(file)\n",
    "recipe=recipes[1]\n",
    "# print(recipe[\"processed_ingredients\"])\n",
    "# print(len(recipe[\"pure_ingredients\"]))\n",
    "print(get_health_score_with_rag(retriever,recipe))"
   ]
  },
  {
   "cell_type": "markdown",
   "metadata": {
    "id": "ip8bHwjmB8hU"
   },
   "source": [
    "### Add `total_health_score` in JSON file"
   ]
  },
  {
   "cell_type": "code",
   "execution_count": 25,
   "metadata": {
    "colab": {
     "base_uri": "https://localhost:8080/"
    },
    "executionInfo": {
     "elapsed": 33395,
     "status": "ok",
     "timestamp": 1733002470878,
     "user": {
      "displayName": "CJ Yu",
      "userId": "11840522882073475963"
     },
     "user_tz": 300
    },
    "id": "pHhqE4djCJXn",
    "outputId": "00a289f0-8188-431a-c8d1-93cb3b8749bc"
   },
   "outputs": [
    {
     "name": "stdout",
     "output_type": "stream",
     "text": [
      "Recipe 0\n",
      "eggs\n",
      "[('1.39', 'Sugars, total'), ('3.047', 'Carbohydrate'), ('3.312', 'Fatty acids, saturated, total'), ('10.388', 'Protein'), ('11.394', 'Total Fat'), ('153', 'Energy (kcal)'), ('369.155', 'Sodium, Na'), ('640', 'Energy (kJ)'), ('0', 'Fibre, total dietary')]\n",
      "brown sugar\n",
      "[('0', 'Total Fat'), ('0', 'Fibre, total dietary'), ('0', 'Fatty acids, saturated, total'), ('0.12', 'Protein'), ('28', 'Sodium, Na'), ('97.02', 'Sugars, total'), ('98.09', 'Carbohydrate'), ('380', 'Energy (kcal)'), ('1590', 'Energy (kJ)')]\n",
      "vanilla\n",
      "[('0.9', 'Fibre, total dietary'), ('3.37', 'Protein'), ('3.962', 'Fatty acids, saturated, total'), ('6.52', 'Total Fat'), ('13.63', 'Sugars, total'), ('19.59', 'Carbohydrate'), ('81', 'Sodium, Na'), ('148', 'Energy (kcal)'), ('620', 'Energy (kJ)')]\n",
      "zucchini\n",
      "[('1.178', 'Fibre, total dietary'), ('1.257', 'Fatty acids, saturated, total'), ('2.056', 'Sugars, total'), ('2.585', 'Protein'), ('9.284', 'Carbohydrate'), ('13.748', 'Total Fat'), ('129.843', 'Sodium, Na'), ('167', 'Energy (kcal)'), ('698', 'Energy (kJ)')]\n",
      "canola oil\n",
      "[('7.365', 'Fatty acids, saturated, total'), ('100', 'Total Fat'), ('885', 'Energy (kcal)'), ('3699', 'Energy (kJ)'), ('0', 'Fibre, total dietary'), ('0', 'Protein'), ('0', 'Carbohydrate'), ('0', 'Sugars, total'), ('0', 'Sodium, Na')]\n",
      "baking soda\n",
      "[('0', 'Carbohydrate'), ('0', 'Energy (kcal)'), ('0', 'Energy (kJ)'), ('0', 'Fibre, total dietary'), ('0', 'Fatty acids, saturated, total'), ('0', 'Protein'), ('0', 'Total Fat'), ('0', 'Sugars, total'), ('27360', 'Sodium, Na')]\n",
      "salt\n",
      "[('0', 'Carbohydrate'), ('0', 'Energy (kcal)'), ('0', 'Energy (kJ)'), ('0', 'Sugars, total'), ('0', 'Fibre, total dietary'), ('0', 'Protein'), ('0', 'Total Fat'), ('0', 'Fatty acids, saturated, total'), ('38758', 'Sodium, Na')]\n",
      "flour\n",
      "[('0.12', 'Fatty acids, saturated, total'), ('0.55', 'Total Fat'), ('1.61', 'Sugars, total'), ('4.94', 'Protein'), ('13.23', 'Fibre, total dietary'), ('29.04', 'Sodium, Na'), ('89.95', 'Carbohydrate'), ('381', 'Energy (kcal)'), ('1593', 'Energy (kJ)')]\n",
      "cinnamon\n",
      "[('0.345', 'Fatty acids, saturated, total'), ('1.24', 'Total Fat'), ('2.17', 'Sugars, total'), ('3.99', 'Protein'), ('10', 'Sodium, Na'), ('53.1', 'Fibre, total dietary'), ('80.59', 'Carbohydrate'), ('247', 'Energy (kcal)'), ('1035', 'Energy (kJ)')]\n",
      "nutmeg\n",
      "[('2.99', 'Sugars, total'), ('5.84', 'Protein'), ('16', 'Sodium, Na'), ('20.8', 'Fibre, total dietary'), ('25.94', 'Fatty acids, saturated, total'), ('36.31', 'Total Fat'), ('49.29', 'Carbohydrate'), ('525', 'Energy (kcal)'), ('2196', 'Energy (kJ)')]\n",
      "pecans\n",
      "[('2.37', 'Fibre, total dietary'), ('3.989', 'Fatty acids, saturated, total'), ('4.9', 'Protein'), ('22.2', 'Total Fat'), ('52.2', 'Carbohydrate'), ('262', 'Sodium, Na'), ('412', 'Energy (kcal)'), ('1724', 'Energy (kJ)')]\n",
      "raisins\n",
      "[('0.178', 'Fatty acids, saturated, total'), ('0.54', 'Total Fat'), ('2.52', 'Protein'), ('6.8', 'Fibre, total dietary'), ('28', 'Sodium, Na'), ('78.47', 'Carbohydrate'), ('296', 'Energy (kcal)'), ('1238', 'Energy (kJ)')]\n",
      "Recipe 1\n",
      "cherrystone clams\n",
      "[('0', 'Sugars, total'), ('1.16', 'Fibre, total dietary'), ('3.99', 'Fatty acids, saturated, total'), ('11.9', 'Protein'), ('14.9', 'Total Fat'), ('30.9', 'Carbohydrate'), ('129', 'Sodium, Na'), ('311', 'Energy (kcal)'), ('1301', 'Energy (kJ)')]\n",
      "butter\n",
      "[('0', 'Fibre, total dietary'), ('0.06', 'Carbohydrate'), ('0.06', 'Sugars, total'), ('0.85', 'Protein'), ('51.368', 'Fatty acids, saturated, total'), ('81.11', 'Total Fat'), ('643', 'Sodium, Na'), ('717', 'Energy (kcal)'), ('3000', 'Energy (kJ)')]\n",
      "bacon\n",
      "[('0', 'Sugars, total'), ('2.6', 'Fibre, total dietary'), ('4.622', 'Fatty acids, saturated, total'), ('6.32', 'Carbohydrate'), ('10.68', 'Protein'), ('29.52', 'Total Fat'), ('310', 'Energy (kcal)'), ('1296', 'Energy (kJ)'), ('1465', 'Sodium, Na')]\n",
      "celery\n",
      "[('0.042', 'Fatty acids, saturated, total'), ('0.17', 'Total Fat'), ('0.69', 'Protein'), ('1.34', 'Sugars, total'), ('1.5', 'Fibre, total dietary'), ('2.97', 'Carbohydrate'), ('16', 'Energy (kcal)'), ('67', 'Energy (kJ)'), ('80', 'Sodium, Na')]\n",
      "onions\n",
      "[('0.042', 'Fatty acids, saturated, total'), ('0.1', 'Total Fat'), ('1.1', 'Protein'), ('1.7', 'Fibre, total dietary'), ('4', 'Sodium, Na'), ('4.24', 'Sugars, total'), ('9.34', 'Carbohydrate'), ('40', 'Energy (kcal)'), ('166', 'Energy (kJ)')]\n",
      "garlic powder\n",
      "[('0.249', 'Fatty acids, saturated, total'), ('0.73', 'Total Fat'), ('2.43', 'Sugars, total'), ('9', 'Fibre, total dietary'), ('16.55', 'Protein'), ('60', 'Sodium, Na'), ('72.73', 'Carbohydrate'), ('331', 'Energy (kcal)'), ('1386', 'Energy (kJ)')]\n",
      "potatoes\n",
      "[('0', 'Fatty acids, saturated, total'), ('3.13', 'Total Fat'), ('6.3', 'Fibre, total dietary'), ('9.38', 'Sugars, total'), ('12.5', 'Protein'), ('47.07', 'Carbohydrate'), ('266', 'Energy (kcal)'), ('360', 'Energy (kJ)'), ('375', 'Sodium, Na')]\n",
      "thyme\n",
      "[('0.467', 'Fatty acids, saturated, total'), ('1.68', 'Total Fat'), ('5.56', 'Protein'), ('9', 'Sodium, Na'), ('14', 'Fibre, total dietary'), ('24.45', 'Carbohydrate'), ('101', 'Energy (kcal)'), ('423', 'Energy (kJ)')]\n",
      "bay leaf\n",
      "[('2.28', 'Fatty acids, saturated, total'), ('7.61', 'Protein'), ('8.36', 'Total Fat'), ('23', 'Sodium, Na'), ('26.3', 'Fibre, total dietary'), ('74.97', 'Carbohydrate'), ('314', 'Energy (kcal)'), ('1312', 'Energy (kJ)')]\n",
      "cornstarch\n",
      "[('0', 'Sugars, total'), ('0.009', 'Fatty acids, saturated, total'), ('0.05', 'Total Fat'), ('0.26', 'Protein'), ('0.9', 'Fibre, total dietary'), ('9', 'Sodium, Na'), ('91.27', 'Carbohydrate'), ('381', 'Energy (kcal)'), ('1594', 'Energy (kJ)')]\n",
      "heavy cream\n",
      "[('0', 'Fibre, total dietary'), ('3.21', 'Sugars, total'), ('4.07', 'Carbohydrate'), ('5.93', 'Protein'), ('19.292', 'Fatty acids, saturated, total'), ('34.24', 'Total Fat'), ('342', 'Energy (kcal)'), ('365', 'Sodium, Na'), ('1431', 'Energy (kJ)')]\n",
      "salt\n",
      "[('0', 'Carbohydrate'), ('0', 'Energy (kcal)'), ('0', 'Energy (kJ)'), ('0', 'Sugars, total'), ('0', 'Fibre, total dietary'), ('0', 'Protein'), ('0', 'Total Fat'), ('0', 'Fatty acids, saturated, total'), ('38758', 'Sodium, Na')]\n",
      "black pepper\n",
      "[('0.64', 'Sugars, total'), ('1.392', 'Fatty acids, saturated, total'), ('3.26', 'Total Fat'), ('10.39', 'Protein'), ('20', 'Sodium, Na'), ('25.3', 'Fibre, total dietary'), ('63.95', 'Carbohydrate'), ('251', 'Energy (kcal)'), ('1050', 'Energy (kJ)')]\n",
      "chives\n",
      "[('0.146', 'Fatty acids, saturated, total'), ('0.73', 'Total Fat'), ('1.85', 'Sugars, total'), ('2.5', 'Fibre, total dietary'), ('3', 'Sodium, Na'), ('3.27', 'Protein'), ('4.35', 'Carbohydrate'), ('30', 'Energy (kcal)'), ('126', 'Energy (kJ)')]\n",
      "oysters\n",
      "[('0', 'Carbohydrate'), ('0', 'Sugars, total'), ('0', 'Fibre, total dietary'), ('1.69', 'Fatty acids, saturated, total'), ('3.97', 'Total Fat'), ('28.81', 'Protein'), ('81', 'Sodium, Na'), ('159', 'Energy (kcal)'), ('665', 'Energy (kJ)')]\n",
      "Recipe 2\n",
      "chicken breast\n",
      "[('0', 'Fibre, total dietary'), ('0.791', 'Fatty acids, saturated, total'), ('1.03', 'Sugars, total'), ('2.25', 'Total Fat'), ('2.61', 'Carbohydrate'), ('19.79', 'Protein'), ('115', 'Energy (kcal)'), ('481', 'Energy (kJ)'), ('1188', 'Sodium, Na')]\n",
      "olive oil\n",
      "[('0', 'Protein'), ('0', 'Carbohydrate'), ('0', 'Sugars, total'), ('0', 'Fibre, total dietary'), ('2', 'Sodium, Na'), ('13.808', 'Fatty acids, saturated, total'), ('100', 'Total Fat'), ('885', 'Energy (kcal)'), ('3699', 'Energy (kJ)')]\n",
      "black pepper\n",
      "[('0.64', 'Sugars, total'), ('1.392', 'Fatty acids, saturated, total'), ('3.26', 'Total Fat'), ('10.39', 'Protein'), ('20', 'Sodium, Na'), ('25.3', 'Fibre, total dietary'), ('63.95', 'Carbohydrate'), ('251', 'Energy (kcal)'), ('1050', 'Energy (kJ)')]\n",
      "skewer\n",
      "[('0', 'Sugars, total'), ('1.49', 'Fatty acids, saturated, total'), ('5.33', 'Total Fat'), ('35.73', 'Protein'), ('90', 'Sodium, Na'), ('201', 'Energy (kcal)'), ('841', 'Energy (kJ)'), ('0', 'Carbohydrate'), ('0', 'Fibre, total dietary')]\n",
      "Recipe 3\n",
      "olive oil\n",
      "[('0', 'Protein'), ('0', 'Carbohydrate'), ('0', 'Sugars, total'), ('0', 'Fibre, total dietary'), ('2', 'Sodium, Na'), ('13.808', 'Fatty acids, saturated, total'), ('100', 'Total Fat'), ('885', 'Energy (kcal)'), ('3699', 'Energy (kJ)')]\n",
      "asparagus\n",
      "[('0.04', 'Fatty acids, saturated, total'), ('0.12', 'Total Fat'), ('1.88', 'Sugars, total'), ('2', 'Sodium, Na'), ('2.1', 'Fibre, total dietary'), ('2.2', 'Protein'), ('3.88', 'Carbohydrate'), ('20', 'Energy (kcal)'), ('85', 'Energy (kJ)')]\n",
      "butter\n",
      "[('0', 'Fibre, total dietary'), ('0.06', 'Carbohydrate'), ('0.06', 'Sugars, total'), ('0.85', 'Protein'), ('51.368', 'Fatty acids, saturated, total'), ('81.11', 'Total Fat'), ('643', 'Sodium, Na'), ('717', 'Energy (kcal)'), ('3000', 'Energy (kJ)')]\n",
      "shiitake mushrooms\n",
      "[('0.05', 'Fatty acids, saturated, total'), ('0.22', 'Total Fat'), ('1.56', 'Protein'), ('2.1', 'Fibre, total dietary'), ('3.84', 'Sugars, total'), ('4', 'Sodium, Na'), ('14.39', 'Carbohydrate'), ('56', 'Energy (kcal)'), ('234', 'Energy (kJ)')]\n",
      "shallot\n",
      "[('0.017', 'Fatty acids, saturated, total'), ('0.1', 'Total Fat'), ('2.09', 'Fibre, total dietary'), ('2.5', 'Protein'), ('7.87', 'Sugars, total'), ('12', 'Sodium, Na'), ('16.8', 'Carbohydrate'), ('72', 'Energy (kcal)'), ('301', 'Energy (kJ)')]\n",
      "oregano\n",
      "[('1.551', 'Fatty acids, saturated, total'), ('4.09', 'Sugars, total'), ('4.28', 'Total Fat'), ('9', 'Protein'), ('25', 'Sodium, Na'), ('42.5', 'Fibre, total dietary'), ('68.92', 'Carbohydrate'), ('265', 'Energy (kcal)'), ('1107', 'Energy (kJ)')]\n",
      "thyme\n",
      "[('0.467', 'Fatty acids, saturated, total'), ('1.68', 'Total Fat'), ('5.56', 'Protein'), ('9', 'Sodium, Na'), ('14', 'Fibre, total dietary'), ('24.45', 'Carbohydrate'), ('101', 'Energy (kcal)'), ('423', 'Energy (kJ)')]\n",
      "fettuccine\n",
      "[('0.804', 'Fatty acids, saturated, total'), ('1.294', 'Fibre, total dietary'), ('1.862', 'Sugars, total'), ('3.937', 'Total Fat'), ('5.196', 'Protein'), ('24.019', 'Carbohydrate'), ('102.252', 'Sodium, Na'), ('154', 'Energy (kcal)'), ('644', 'Energy (kJ)')]\n",
      "Parmesan\n",
      "[('0.9', 'Sugars, total'), ('3.41', 'Carbohydrate'), ('17.37', 'Fatty acids, saturated, total'), ('27.34', 'Total Fat'), ('37.86', 'Protein'), ('415', 'Energy (kcal)'), ('1696', 'Sodium, Na'), ('1737', 'Energy (kJ)'), ('0', 'Fibre, total dietary')]\n",
      "egg yolks\n",
      "[('0', 'Fibre, total dietary'), ('0.56', 'Sugars, total'), ('3.363', 'Carbohydrate'), ('9.932', 'Fatty acids, saturated, total'), ('15.896', 'Protein'), ('32.679', 'Total Fat'), ('41.513', 'Sodium, Na'), ('351', 'Energy (kcal)'), ('1468', 'Energy (kJ)')]\n",
      "Recipe 4\n",
      "orzo\n",
      "[('0.15', 'Fatty acids, saturated, total'), ('1', 'Sodium, Na'), ('1.05', 'Total Fat'), ('3.9', 'Fibre, total dietary'), ('12.68', 'Protein'), ('72.83', 'Carbohydrate'), ('360', 'Energy (kcal)'), ('1506', 'Energy (kJ)')]\n",
      "onions\n",
      "[('0.042', 'Fatty acids, saturated, total'), ('0.1', 'Total Fat'), ('1.1', 'Protein'), ('1.7', 'Fibre, total dietary'), ('4', 'Sodium, Na'), ('4.24', 'Sugars, total'), ('9.34', 'Carbohydrate'), ('40', 'Energy (kcal)'), ('166', 'Energy (kJ)')]\n",
      "bacon\n",
      "[('0', 'Sugars, total'), ('2.6', 'Fibre, total dietary'), ('4.622', 'Fatty acids, saturated, total'), ('6.32', 'Carbohydrate'), ('10.68', 'Protein'), ('29.52', 'Total Fat'), ('310', 'Energy (kcal)'), ('1296', 'Energy (kJ)'), ('1465', 'Sodium, Na')]\n",
      "chicken broth\n",
      "[('0', 'Sugars, total'), ('0', 'Fibre, total dietary'), ('0.9', 'Carbohydrate'), ('2.25', 'Fatty acids, saturated, total'), ('8.1', 'Total Fat'), ('25.3', 'Protein'), ('185', 'Energy (kcal)'), ('482', 'Sodium, Na'), ('772', 'Energy (kJ)')]\n",
      "peas\n",
      "[('0.054', 'Fatty acids, saturated, total'), ('0.39', 'Total Fat'), ('2', 'Sodium, Na'), ('2.9', 'Sugars, total'), ('2.92', 'Fibre, total dietary'), ('8.34', 'Protein'), ('21.1', 'Carbohydrate'), ('118', 'Energy (kcal)'), ('494', 'Energy (kJ)')]\n",
      "Recipe 5\n",
      "coconut water\n",
      "[('0', 'Total Fat'), ('0', 'Fibre, total dietary'), ('0', 'Fatty acids, saturated, total'), ('0.22', 'Protein'), ('3.92', 'Sugars, total'), ('4.24', 'Carbohydrate'), ('18', 'Energy (kcal)'), ('26', 'Sodium, Na'), ('75', 'Energy (kJ)')]\n",
      "brown rice\n",
      "[('0.165', 'Fatty acids, saturated, total'), ('0.35', 'Sugars, total'), ('0.83', 'Total Fat'), ('1', 'Sodium, Na'), ('1.91', 'Fibre, total dietary'), ('2.32', 'Protein'), ('23.51', 'Carbohydrate'), ('112', 'Energy (kcal)'), ('469', 'Energy (kJ)')]\n",
      "lime juice\n",
      "[('0.008', 'Fatty acids, saturated, total'), ('0.07', 'Total Fat'), ('0.4', 'Fibre, total dietary'), ('0.42', 'Protein'), ('1.69', 'Sugars, total'), ('2', 'Sodium, Na'), ('8.42', 'Carbohydrate'), ('25', 'Energy (kcal)'), ('104', 'Energy (kJ)')]\n",
      "carrots\n",
      "[('0.037', 'Fatty acids, saturated, total'), ('0.24', 'Total Fat'), ('0.93', 'Protein'), ('2.44', 'Fibre, total dietary'), ('4.74', 'Sugars, total'), ('9.58', 'Carbohydrate'), ('41', 'Energy (kcal)'), ('69', 'Sodium, Na'), ('173', 'Energy (kJ)')]\n",
      "sweet red onion\n",
      "[('0.08', 'Total Fat'), ('0.8', 'Protein'), ('0.9', 'Fibre, total dietary'), ('5.02', 'Sugars, total'), ('7.55', 'Carbohydrate'), ('8', 'Sodium, Na'), ('32', 'Energy (kcal)'), ('133', 'Energy (kJ)')]\n",
      "salt\n",
      "[('0', 'Carbohydrate'), ('0', 'Energy (kcal)'), ('0', 'Energy (kJ)'), ('0', 'Sugars, total'), ('0', 'Fibre, total dietary'), ('0', 'Protein'), ('0', 'Total Fat'), ('0', 'Fatty acids, saturated, total'), ('38758', 'Sodium, Na')]\n",
      "shrimp\n",
      "[('0.4', 'Fibre, total dietary'), ('0.8', 'Sugars, total'), ('2.087', 'Fatty acids, saturated, total'), ('11.47', 'Carbohydrate'), ('12.28', 'Total Fat'), ('21.39', 'Protein'), ('242', 'Energy (kcal)'), ('344', 'Sodium, Na'), ('1013', 'Energy (kJ)')]\n",
      "eggs\n",
      "[('1.39', 'Sugars, total'), ('3.047', 'Carbohydrate'), ('3.312', 'Fatty acids, saturated, total'), ('10.388', 'Protein'), ('11.394', 'Total Fat'), ('153', 'Energy (kcal)'), ('369.155', 'Sodium, Na'), ('640', 'Energy (kJ)'), ('0', 'Fibre, total dietary')]\n",
      "sweetened shredded coconut\n",
      "[('2.88', 'Protein'), ('4.5', 'Fibre, total dietary'), ('31.468', 'Fatty acids, saturated, total'), ('35.49', 'Total Fat'), ('43.17', 'Sugars, total'), ('47.67', 'Carbohydrate'), ('262', 'Sodium, Na'), ('501', 'Energy (kcal)'), ('2096', 'Energy (kJ)')]\n",
      "panko breadcrumbs\n",
      "[('1.391', 'Fatty acids, saturated, total'), ('4.9', 'Fibre, total dietary'), ('5.48', 'Total Fat'), ('5.74', 'Sugars, total'), ('14.13', 'Protein'), ('68.49', 'Carbohydrate'), ('384', 'Energy (kcal)'), ('1336', 'Sodium, Na'), ('1604', 'Energy (kJ)')]\n",
      "cilantro\n",
      "[('0.99', 'Fatty acids, saturated, total'), ('12.37', 'Protein'), ('17.77', 'Total Fat'), ('35', 'Sodium, Na'), ('41.9', 'Fibre, total dietary'), ('54.99', 'Carbohydrate'), ('298', 'Energy (kcal)'), ('1245', 'Energy (kJ)')]\n",
      "water\n",
      "[('0', 'Protein'), ('0', 'Total Fat'), ('0', 'Carbohydrate'), ('0', 'Energy (kcal)'), ('0', 'Energy (kJ)'), ('0', 'Sugars, total'), ('0', 'Fatty acids, saturated, total'), ('0', 'Fibre, total dietary'), ('3', 'Sodium, Na')]\n",
      "black pepper\n",
      "[('0.64', 'Sugars, total'), ('1.392', 'Fatty acids, saturated, total'), ('3.26', 'Total Fat'), ('10.39', 'Protein'), ('20', 'Sodium, Na'), ('25.3', 'Fibre, total dietary'), ('63.95', 'Carbohydrate'), ('251', 'Energy (kcal)'), ('1050', 'Energy (kJ)')]\n",
      "Recipe 6\n",
      "lemon\n",
      "[('0.039', 'Fatty acids, saturated, total'), ('0.3', 'Total Fat'), ('1.1', 'Protein'), ('2', 'Sodium, Na'), ('2.5', 'Sugars, total'), ('2.8', 'Fibre, total dietary'), ('9.32', 'Carbohydrate'), ('29', 'Energy (kcal)'), ('121', 'Energy (kJ)')]\n",
      "rosemary\n",
      "[('2.838', 'Fatty acids, saturated, total'), ('3.31', 'Protein'), ('5.86', 'Total Fat'), ('14.1', 'Fibre, total dietary'), ('20.7', 'Carbohydrate'), ('26', 'Sodium, Na'), ('131', 'Energy (kcal)'), ('548', 'Energy (kJ)')]\n",
      "garlic\n",
      "[('0.089', 'Fatty acids, saturated, total'), ('0.5', 'Total Fat'), ('1', 'Sugars, total'), ('2.1', 'Fibre, total dietary'), ('6.36', 'Protein'), ('17', 'Sodium, Na'), ('33.06', 'Carbohydrate'), ('149', 'Energy (kcal)'), ('623', 'Energy (kJ)')]\n",
      "olive oil\n",
      "[('0', 'Protein'), ('0', 'Carbohydrate'), ('0', 'Sugars, total'), ('0', 'Fibre, total dietary'), ('2', 'Sodium, Na'), ('13.808', 'Fatty acids, saturated, total'), ('100', 'Total Fat'), ('885', 'Energy (kcal)'), ('3699', 'Energy (kJ)')]\n",
      "lemon juice\n",
      "[('0.04', 'Fatty acids, saturated, total'), ('0.24', 'Total Fat'), ('0.3', 'Fibre, total dietary'), ('0.35', 'Protein'), ('1', 'Sodium, Na'), ('2.52', 'Sugars, total'), ('6.9', 'Carbohydrate'), ('22', 'Energy (kcal)'), ('91', 'Energy (kJ)')]\n",
      "salt\n",
      "[('0', 'Carbohydrate'), ('0', 'Energy (kcal)'), ('0', 'Energy (kJ)'), ('0', 'Sugars, total'), ('0', 'Fibre, total dietary'), ('0', 'Protein'), ('0', 'Total Fat'), ('0', 'Fatty acids, saturated, total'), ('38758', 'Sodium, Na')]\n",
      "lamb\n",
      "[('0', 'Carbohydrate'), ('0', 'Fibre, total dietary'), ('0', 'Sugars, total'), ('6.63', 'Fatty acids, saturated, total'), ('15.7', 'Protein'), ('17.17', 'Total Fat'), ('78', 'Sodium, Na'), ('222', 'Energy (kcal)'), ('929', 'Energy (kJ)')]\n",
      "potato\n",
      "[('0', 'Fatty acids, saturated, total'), ('3.13', 'Total Fat'), ('6.3', 'Fibre, total dietary'), ('9.38', 'Sugars, total'), ('12.5', 'Protein'), ('47.07', 'Carbohydrate'), ('266', 'Energy (kcal)'), ('360', 'Energy (kJ)'), ('375', 'Sodium, Na')]\n",
      "chives\n",
      "[('0.146', 'Fatty acids, saturated, total'), ('0.73', 'Total Fat'), ('1.85', 'Sugars, total'), ('2.5', 'Fibre, total dietary'), ('3', 'Sodium, Na'), ('3.27', 'Protein'), ('4.35', 'Carbohydrate'), ('30', 'Energy (kcal)'), ('126', 'Energy (kJ)')]\n",
      "pepper\n",
      "[('1.04', 'Protein'), ('1.557', 'Fatty acids, saturated, total'), ('1.8', 'Fibre, total dietary'), ('4.28', 'Sugars, total'), ('6.57', 'Carbohydrate'), ('12.75', 'Total Fat'), ('21', 'Sodium, Na'), ('133', 'Energy (kcal)'), ('555', 'Energy (kJ)')]\n",
      "Recipe 7\n",
      "vegetable oil\n",
      "[('7.365', 'Fatty acids, saturated, total'), ('100', 'Total Fat'), ('885', 'Energy (kcal)'), ('3699', 'Energy (kJ)'), ('0', 'Fibre, total dietary'), ('0', 'Protein'), ('0', 'Carbohydrate'), ('0', 'Sugars, total'), ('0', 'Sodium, Na')]\n",
      "mushrooms\n",
      "[('0.05', 'Fatty acids, saturated, total'), ('0.34', 'Total Fat'), ('1', 'Fibre, total dietary'), ('1.98', 'Sugars, total'), ('3.09', 'Protein'), ('3.28', 'Carbohydrate'), ('5', 'Sodium, Na'), ('22', 'Energy (kcal)'), ('94', 'Energy (kJ)')]\n",
      "salt\n",
      "[('0', 'Carbohydrate'), ('0', 'Energy (kcal)'), ('0', 'Energy (kJ)'), ('0', 'Sugars, total'), ('0', 'Fibre, total dietary'), ('0', 'Protein'), ('0', 'Total Fat'), ('0', 'Fatty acids, saturated, total'), ('38758', 'Sodium, Na')]\n",
      "black pepper\n",
      "[('0.64', 'Sugars, total'), ('1.392', 'Fatty acids, saturated, total'), ('3.26', 'Total Fat'), ('10.39', 'Protein'), ('20', 'Sodium, Na'), ('25.3', 'Fibre, total dietary'), ('63.95', 'Carbohydrate'), ('251', 'Energy (kcal)'), ('1050', 'Energy (kJ)')]\n",
      "onion\n",
      "[('0.042', 'Fatty acids, saturated, total'), ('0.1', 'Total Fat'), ('1.1', 'Protein'), ('1.7', 'Fibre, total dietary'), ('4', 'Sodium, Na'), ('4.24', 'Sugars, total'), ('9.34', 'Carbohydrate'), ('40', 'Energy (kcal)'), ('166', 'Energy (kJ)')]\n",
      "eggs\n",
      "[('1.39', 'Sugars, total'), ('3.047', 'Carbohydrate'), ('3.312', 'Fatty acids, saturated, total'), ('10.388', 'Protein'), ('11.394', 'Total Fat'), ('153', 'Energy (kcal)'), ('369.155', 'Sodium, Na'), ('640', 'Energy (kJ)'), ('0', 'Fibre, total dietary')]\n",
      "egg whites\n",
      "[('0', 'Total Fat'), ('0', 'Fibre, total dietary'), ('0', 'Fatty acids, saturated, total'), ('5.4', 'Sugars, total'), ('7.8', 'Carbohydrate'), ('81.1', 'Protein'), ('382', 'Energy (kcal)'), ('1280', 'Sodium, Na'), ('1598', 'Energy (kJ)')]\n",
      "cheddar\n",
      "[('0', 'Fibre, total dietary'), ('0.28', 'Sugars, total'), ('1.33', 'Carbohydrate'), ('19.368', 'Fatty acids, saturated, total'), ('24.04', 'Protein'), ('33.82', 'Total Fat'), ('406', 'Energy (kcal)'), ('644', 'Sodium, Na'), ('1698', 'Energy (kJ)')]\n",
      "arugula\n",
      "[('0.086', 'Fatty acids, saturated, total'), ('0.66', 'Total Fat'), ('1.6', 'Fibre, total dietary'), ('2.05', 'Sugars, total'), ('2.58', 'Protein'), ('3.65', 'Carbohydrate'), ('25', 'Energy (kcal)'), ('27', 'Sodium, Na'), ('105', 'Energy (kJ)')]\n",
      "olive oil\n",
      "[('0', 'Protein'), ('0', 'Carbohydrate'), ('0', 'Sugars, total'), ('0', 'Fibre, total dietary'), ('2', 'Sodium, Na'), ('13.808', 'Fatty acids, saturated, total'), ('100', 'Total Fat'), ('885', 'Energy (kcal)'), ('3699', 'Energy (kJ)')]\n",
      "lemon\n",
      "[('0.039', 'Fatty acids, saturated, total'), ('0.3', 'Total Fat'), ('1.1', 'Protein'), ('2', 'Sodium, Na'), ('2.5', 'Sugars, total'), ('2.8', 'Fibre, total dietary'), ('9.32', 'Carbohydrate'), ('29', 'Energy (kcal)'), ('121', 'Energy (kJ)')]\n",
      "Recipe 8\n",
      "bacon\n",
      "[('0', 'Sugars, total'), ('2.6', 'Fibre, total dietary'), ('4.622', 'Fatty acids, saturated, total'), ('6.32', 'Carbohydrate'), ('10.68', 'Protein'), ('29.52', 'Total Fat'), ('310', 'Energy (kcal)'), ('1296', 'Energy (kJ)'), ('1465', 'Sodium, Na')]\n",
      "lettuce\n",
      "[('0.02', 'Fatty acids, saturated, total'), ('0.15', 'Total Fat'), ('0.78', 'Sugars, total'), ('1.3', 'Fibre, total dietary'), ('1.36', 'Protein'), ('2.87', 'Carbohydrate'), ('15', 'Energy (kcal)'), ('28', 'Sodium, Na'), ('62', 'Energy (kJ)')]\n",
      "ground beef\n",
      "[('0', 'Carbohydrate'), ('0', 'Fibre, total dietary'), ('0', 'Sugars, total'), ('6.356', 'Fatty acids, saturated, total'), ('21.47', 'Total Fat'), ('28.8', 'Protein'), ('75', 'Sodium, Na'), ('317', 'Energy (kcal)'), ('1326', 'Energy (kJ)')]\n",
      "salt\n",
      "[('0', 'Carbohydrate'), ('0', 'Energy (kcal)'), ('0', 'Energy (kJ)'), ('0', 'Sugars, total'), ('0', 'Fibre, total dietary'), ('0', 'Protein'), ('0', 'Total Fat'), ('0', 'Fatty acids, saturated, total'), ('38758', 'Sodium, Na')]\n",
      "black pepper\n",
      "[('0.64', 'Sugars, total'), ('1.392', 'Fatty acids, saturated, total'), ('3.26', 'Total Fat'), ('10.39', 'Protein'), ('20', 'Sodium, Na'), ('25.3', 'Fibre, total dietary'), ('63.95', 'Carbohydrate'), ('251', 'Energy (kcal)'), ('1050', 'Energy (kJ)')]\n",
      "blue cheese dressing\n",
      "[('0.45', 'Fatty acids, saturated, total'), ('1.01', 'Total Fat'), ('1.52', 'Protein'), ('1.8', 'Fibre, total dietary'), ('7.44', 'Sugars, total'), ('25.6', 'Carbohydrate'), ('115', 'Energy (kcal)'), ('481', 'Energy (kJ)'), ('814', 'Sodium, Na')]\n",
      "red onion\n",
      "[('0.042', 'Fatty acids, saturated, total'), ('0.1', 'Total Fat'), ('1.1', 'Protein'), ('1.7', 'Fibre, total dietary'), ('4', 'Sodium, Na'), ('4.24', 'Sugars, total'), ('9.34', 'Carbohydrate'), ('40', 'Energy (kcal)'), ('166', 'Energy (kJ)')]\n",
      "Recipe 9\n",
      "olive oil\n",
      "[('0', 'Protein'), ('0', 'Carbohydrate'), ('0', 'Sugars, total'), ('0', 'Fibre, total dietary'), ('2', 'Sodium, Na'), ('13.808', 'Fatty acids, saturated, total'), ('100', 'Total Fat'), ('885', 'Energy (kcal)'), ('3699', 'Energy (kJ)')]\n",
      "sweet red onion\n",
      "[('0.08', 'Total Fat'), ('0.8', 'Protein'), ('0.9', 'Fibre, total dietary'), ('5.02', 'Sugars, total'), ('7.55', 'Carbohydrate'), ('8', 'Sodium, Na'), ('32', 'Energy (kcal)'), ('133', 'Energy (kJ)')]\n",
      "jalapeño chili\n",
      "[('0.092', 'Fatty acids, saturated, total'), ('0.37', 'Total Fat'), ('0.91', 'Protein'), ('2.8', 'Fibre, total dietary'), ('3', 'Sodium, Na'), ('4.12', 'Sugars, total'), ('6.5', 'Carbohydrate'), ('29', 'Energy (kcal)'), ('119', 'Energy (kJ)')]\n",
      "chili powder\n",
      "[('2.462', 'Fatty acids, saturated, total'), ('7.19', 'Sugars, total'), ('13.46', 'Protein'), ('14.28', 'Total Fat'), ('34.8', 'Fibre, total dietary'), ('49.7', 'Carbohydrate'), ('282', 'Energy (kcal)'), ('1179', 'Energy (kJ)'), ('2867', 'Sodium, Na')]\n",
      "ground cumin\n",
      "[('1.535', 'Fatty acids, saturated, total'), ('2.25', 'Sugars, total'), ('10.5', 'Fibre, total dietary'), ('17.81', 'Protein'), ('22.27', 'Total Fat'), ('44.24', 'Carbohydrate'), ('168', 'Sodium, Na'), ('375', 'Energy (kcal)'), ('1567', 'Energy (kJ)')]\n",
      "black beans\n",
      "[('0.535', 'Fatty acids, saturated, total'), ('0.89', 'Sugars, total'), ('2.57', 'Total Fat'), ('4.9', 'Fibre, total dietary'), ('5.1', 'Protein'), ('14.79', 'Carbohydrate'), ('103', 'Energy (kcal)'), ('311', 'Sodium, Na'), ('430', 'Energy (kJ)')]\n",
      "lime juice\n",
      "[('0.008', 'Fatty acids, saturated, total'), ('0.07', 'Total Fat'), ('0.4', 'Fibre, total dietary'), ('0.42', 'Protein'), ('1.69', 'Sugars, total'), ('2', 'Sodium, Na'), ('8.42', 'Carbohydrate'), ('25', 'Energy (kcal)'), ('104', 'Energy (kJ)')]\n",
      "olive oil\n",
      "[('0', 'Protein'), ('0', 'Carbohydrate'), ('0', 'Sugars, total'), ('0', 'Fibre, total dietary'), ('2', 'Sodium, Na'), ('13.808', 'Fatty acids, saturated, total'), ('100', 'Total Fat'), ('885', 'Energy (kcal)'), ('3699', 'Energy (kJ)')]\n",
      "chicken breast\n",
      "[('0', 'Fibre, total dietary'), ('0.791', 'Fatty acids, saturated, total'), ('1.03', 'Sugars, total'), ('2.25', 'Total Fat'), ('2.61', 'Carbohydrate'), ('19.79', 'Protein'), ('115', 'Energy (kcal)'), ('481', 'Energy (kJ)'), ('1188', 'Sodium, Na')]\n",
      "chili powder\n",
      "[('2.462', 'Fatty acids, saturated, total'), ('7.19', 'Sugars, total'), ('13.46', 'Protein'), ('14.28', 'Total Fat'), ('34.8', 'Fibre, total dietary'), ('49.7', 'Carbohydrate'), ('282', 'Energy (kcal)'), ('1179', 'Energy (kJ)'), ('2867', 'Sodium, Na')]\n",
      "ground cumin\n",
      "[('1.535', 'Fatty acids, saturated, total'), ('2.25', 'Sugars, total'), ('10.5', 'Fibre, total dietary'), ('17.81', 'Protein'), ('22.27', 'Total Fat'), ('44.24', 'Carbohydrate'), ('168', 'Sodium, Na'), ('375', 'Energy (kcal)'), ('1567', 'Energy (kJ)')]\n",
      "romaine lettuce\n",
      "[('0.039', 'Fatty acids, saturated, total'), ('0.3', 'Total Fat'), ('1.19', 'Sugars, total'), ('1.23', 'Protein'), ('2.1', 'Fibre, total dietary'), ('3.29', 'Carbohydrate'), ('8', 'Sodium, Na'), ('17', 'Energy (kcal)'), ('72', 'Energy (kJ)')]\n",
      "radicchio\n",
      "[('0.06', 'Fatty acids, saturated, total'), ('0.25', 'Total Fat'), ('0.6', 'Sugars, total'), ('0.9', 'Fibre, total dietary'), ('1.43', 'Protein'), ('4.48', 'Carbohydrate'), ('22', 'Sodium, Na'), ('23', 'Energy (kcal)'), ('96', 'Energy (kJ)')]\n",
      "cilantro\n",
      "[('0.99', 'Fatty acids, saturated, total'), ('12.37', 'Protein'), ('17.77', 'Total Fat'), ('35', 'Sodium, Na'), ('41.9', 'Fibre, total dietary'), ('54.99', 'Carbohydrate'), ('298', 'Energy (kcal)'), ('1245', 'Energy (kJ)')]\n",
      "corn tortilla\n",
      "[('2.629', 'Fatty acids, saturated, total'), ('3.2', 'Fibre, total dietary'), ('3.48', 'Protein'), ('7.21', 'Total Fat'), ('7.42', 'Sugars, total'), ('26.68', 'Carbohydrate'), ('186', 'Energy (kcal)'), ('277', 'Sodium, Na'), ('776', 'Energy (kJ)')]\n",
      "olive oil\n",
      "[('0', 'Protein'), ('0', 'Carbohydrate'), ('0', 'Sugars, total'), ('0', 'Fibre, total dietary'), ('2', 'Sodium, Na'), ('13.808', 'Fatty acids, saturated, total'), ('100', 'Total Fat'), ('885', 'Energy (kcal)'), ('3699', 'Energy (kJ)')]\n",
      "lemon juice\n",
      "[('0.04', 'Fatty acids, saturated, total'), ('0.24', 'Total Fat'), ('0.3', 'Fibre, total dietary'), ('0.35', 'Protein'), ('1', 'Sodium, Na'), ('2.52', 'Sugars, total'), ('6.9', 'Carbohydrate'), ('22', 'Energy (kcal)'), ('91', 'Energy (kJ)')]\n",
      "goat cheese\n",
      "[('0', 'Fibre, total dietary'), ('2.22', 'Carbohydrate'), ('2.22', 'Sugars, total'), ('17.614', 'Fatty acids, saturated, total'), ('24.94', 'Protein'), ('28', 'Total Fat'), ('357', 'Energy (kcal)'), ('819', 'Sodium, Na'), ('1491', 'Energy (kJ)')]\n",
      "Recipe 10\n",
      "potato\n",
      "[('0', 'Fatty acids, saturated, total'), ('3.13', 'Total Fat'), ('6.3', 'Fibre, total dietary'), ('9.38', 'Sugars, total'), ('12.5', 'Protein'), ('47.07', 'Carbohydrate'), ('266', 'Energy (kcal)'), ('360', 'Energy (kJ)'), ('375', 'Sodium, Na')]\n",
      "mushrooms\n",
      "[('0.05', 'Fatty acids, saturated, total'), ('0.34', 'Total Fat'), ('1', 'Fibre, total dietary'), ('1.98', 'Sugars, total'), ('3.09', 'Protein'), ('3.28', 'Carbohydrate'), ('5', 'Sodium, Na'), ('22', 'Energy (kcal)'), ('94', 'Energy (kJ)')]\n",
      "butter\n",
      "[('0', 'Fibre, total dietary'), ('0.06', 'Carbohydrate'), ('0.06', 'Sugars, total'), ('0.85', 'Protein'), ('51.368', 'Fatty acids, saturated, total'), ('81.11', 'Total Fat'), ('643', 'Sodium, Na'), ('717', 'Energy (kcal)'), ('3000', 'Energy (kJ)')]\n",
      "olive oil\n",
      "[('0', 'Protein'), ('0', 'Carbohydrate'), ('0', 'Sugars, total'), ('0', 'Fibre, total dietary'), ('2', 'Sodium, Na'), ('13.808', 'Fatty acids, saturated, total'), ('100', 'Total Fat'), ('885', 'Energy (kcal)'), ('3699', 'Energy (kJ)')]\n",
      "sweet red onion\n",
      "[('0.08', 'Total Fat'), ('0.8', 'Protein'), ('0.9', 'Fibre, total dietary'), ('5.02', 'Sugars, total'), ('7.55', 'Carbohydrate'), ('8', 'Sodium, Na'), ('32', 'Energy (kcal)'), ('133', 'Energy (kJ)')]\n",
      "garlic\n",
      "[('0.089', 'Fatty acids, saturated, total'), ('0.5', 'Total Fat'), ('1', 'Sugars, total'), ('2.1', 'Fibre, total dietary'), ('6.36', 'Protein'), ('17', 'Sodium, Na'), ('33.06', 'Carbohydrate'), ('149', 'Energy (kcal)'), ('623', 'Energy (kJ)')]\n",
      "red wine\n",
      "[('0', 'Total Fat'), ('0', 'Sugars, total'), ('0', 'Fibre, total dietary'), ('0', 'Fatty acids, saturated, total'), ('0.04', 'Protein'), ('0.27', 'Carbohydrate'), ('8', 'Sodium, Na'), ('19', 'Energy (kcal)'), ('79', 'Energy (kJ)')]\n",
      "vegetable stock\n",
      "[('0.475', 'Fatty acids, saturated, total'), ('1.1', 'Fibre, total dietary'), ('1.25', 'Sugars, total'), ('3', 'Total Fat'), ('7', 'Carbohydrate'), ('17', 'Protein'), ('123', 'Energy (kcal)'), ('400', 'Sodium, Na'), ('515', 'Energy (kJ)')]\n",
      "all-purpose flour\n",
      "[('0.377', 'Sodium, Na'), ('0.378', 'Fatty acids, saturated, total'), ('0.544', 'Sugars, total'), ('2.241', 'Total Fat'), ('2.733', 'Fibre, total dietary'), ('12.171', 'Protein'), ('72.349', 'Carbohydrate'), ('366', 'Energy (kcal)'), ('1531', 'Energy (kJ)')]\n",
      "milk\n",
      "[('0.8', 'Fibre, total dietary'), ('2.104', 'Fatty acids, saturated, total'), ('3.17', 'Protein'), ('3.39', 'Total Fat'), ('9.54', 'Sugars, total'), ('10.34', 'Carbohydrate'), ('60', 'Sodium, Na'), ('83', 'Energy (kcal)'), ('349', 'Energy (kJ)')]\n",
      "butter\n",
      "[('0', 'Fibre, total dietary'), ('0.06', 'Carbohydrate'), ('0.06', 'Sugars, total'), ('0.85', 'Protein'), ('51.368', 'Fatty acids, saturated, total'), ('81.11', 'Total Fat'), ('643', 'Sodium, Na'), ('717', 'Energy (kcal)'), ('3000', 'Energy (kJ)')]\n",
      "Comte cheese\n",
      "[('0.46', 'Carbohydrate'), ('0.46', 'Sugars, total'), ('15.259', 'Fatty acids, saturated, total'), ('19.8', 'Protein'), ('24.26', 'Total Fat'), ('300', 'Energy (kcal)'), ('842', 'Sodium, Na'), ('1253', 'Energy (kJ)'), ('0', 'Fibre, total dietary')]\n",
      "Parmesan cheese\n",
      "[('0.9', 'Fibre, total dietary'), ('2.55', 'Fatty acids, saturated, total'), ('2.79', 'Sugars, total'), ('10.64', 'Total Fat'), ('10.92', 'Carbohydrate'), ('16.17', 'Protein'), ('204', 'Energy (kcal)'), ('536', 'Sodium, Na'), ('854', 'Energy (kJ)')]\n",
      "thyme\n",
      "[('0.467', 'Fatty acids, saturated, total'), ('1.68', 'Total Fat'), ('5.56', 'Protein'), ('9', 'Sodium, Na'), ('14', 'Fibre, total dietary'), ('24.45', 'Carbohydrate'), ('101', 'Energy (kcal)'), ('423', 'Energy (kJ)')]\n",
      "parsley leaves\n",
      "[('0.132', 'Fatty acids, saturated, total'), ('0.79', 'Total Fat'), ('0.85', 'Sugars, total'), ('2.97', 'Protein'), ('3.3', 'Fibre, total dietary'), ('6.33', 'Carbohydrate'), ('36', 'Energy (kcal)'), ('56', 'Sodium, Na'), ('151', 'Energy (kJ)')]\n",
      "five-spice powder\n",
      "[('1.648', 'Fatty acids, saturated, total'), ('2.76', 'Sugars, total'), ('14.01', 'Total Fat'), ('14.29', 'Protein'), ('52', 'Sodium, Na'), ('53.2', 'Fibre, total dietary'), ('55.83', 'Carbohydrate'), ('325', 'Energy (kcal)'), ('1359', 'Energy (kJ)')]\n",
      "black pepper\n",
      "[('0.64', 'Sugars, total'), ('1.392', 'Fatty acids, saturated, total'), ('3.26', 'Total Fat'), ('10.39', 'Protein'), ('20', 'Sodium, Na'), ('25.3', 'Fibre, total dietary'), ('63.95', 'Carbohydrate'), ('251', 'Energy (kcal)'), ('1050', 'Energy (kJ)')]\n",
      "Recipe 11\n",
      "flour\n",
      "[('0.12', 'Fatty acids, saturated, total'), ('0.55', 'Total Fat'), ('1.61', 'Sugars, total'), ('4.94', 'Protein'), ('13.23', 'Fibre, total dietary'), ('29.04', 'Sodium, Na'), ('89.95', 'Carbohydrate'), ('381', 'Energy (kcal)'), ('1593', 'Energy (kJ)')]\n",
      "sugar\n",
      "[('0', 'Total Fat'), ('0', 'Fibre, total dietary'), ('0', 'Fatty acids, saturated, total'), ('0.12', 'Protein'), ('28', 'Sodium, Na'), ('97.02', 'Sugars, total'), ('98.09', 'Carbohydrate'), ('380', 'Energy (kcal)'), ('1590', 'Energy (kJ)')]\n",
      "baking soda\n",
      "[('0', 'Carbohydrate'), ('0', 'Energy (kcal)'), ('0', 'Energy (kJ)'), ('0', 'Fibre, total dietary'), ('0', 'Fatty acids, saturated, total'), ('0', 'Protein'), ('0', 'Total Fat'), ('0', 'Sugars, total'), ('27360', 'Sodium, Na')]\n",
      "ginger\n",
      "[('2.599', 'Fatty acids, saturated, total'), ('3.39', 'Sugars, total'), ('4.24', 'Total Fat'), ('8.98', 'Protein'), ('14.1', 'Fibre, total dietary'), ('27', 'Sodium, Na'), ('71.62', 'Carbohydrate'), ('335', 'Energy (kcal)'), ('1404', 'Energy (kJ)')]\n",
      "salt\n",
      "[('0', 'Carbohydrate'), ('0', 'Energy (kcal)'), ('0', 'Energy (kJ)'), ('0', 'Sugars, total'), ('0', 'Fibre, total dietary'), ('0', 'Protein'), ('0', 'Total Fat'), ('0', 'Fatty acids, saturated, total'), ('38758', 'Sodium, Na')]\n",
      "butter\n",
      "[('0', 'Fibre, total dietary'), ('0.06', 'Carbohydrate'), ('0.06', 'Sugars, total'), ('0.85', 'Protein'), ('51.368', 'Fatty acids, saturated, total'), ('81.11', 'Total Fat'), ('643', 'Sodium, Na'), ('717', 'Energy (kcal)'), ('3000', 'Energy (kJ)')]\n",
      "buttermilk\n",
      "[('1.832', 'Fatty acids, saturated, total'), ('6.8', 'Protein'), ('9.3', 'Total Fat'), ('28.7', 'Carbohydrate'), ('227', 'Energy (kcal)'), ('522', 'Sodium, Na'), ('950', 'Energy (kJ)'), ('0.96', 'Fibre, total dietary')]\n",
      "molasses\n",
      "[('1', 'Fibre, total dietary'), ('3.212', 'Fatty acids, saturated, total'), ('5.6', 'Protein'), ('12.8', 'Total Fat'), ('17.6', 'Sugars, total'), ('73.8', 'Carbohydrate'), ('430', 'Energy (kcal)'), ('459', 'Sodium, Na'), ('1799', 'Energy (kJ)')]\n",
      "Recipe 12\n",
      "chicken\n",
      "[('0', 'Fibre, total dietary'), ('0', 'Carbohydrate'), ('0', 'Sugars, total'), ('5.11', 'Fatty acids, saturated, total'), ('18.87', 'Total Fat'), ('26.88', 'Protein'), ('73', 'Sodium, Na'), ('285', 'Energy (kcal)'), ('1192', 'Energy (kJ)')]\n",
      "salt\n",
      "[('0', 'Carbohydrate'), ('0', 'Energy (kcal)'), ('0', 'Energy (kJ)'), ('0', 'Sugars, total'), ('0', 'Fibre, total dietary'), ('0', 'Protein'), ('0', 'Total Fat'), ('0', 'Fatty acids, saturated, total'), ('38758', 'Sodium, Na')]\n",
      "pepper\n",
      "[('1.04', 'Protein'), ('1.557', 'Fatty acids, saturated, total'), ('1.8', 'Fibre, total dietary'), ('4.28', 'Sugars, total'), ('6.57', 'Carbohydrate'), ('12.75', 'Total Fat'), ('21', 'Sodium, Na'), ('133', 'Energy (kcal)'), ('555', 'Energy (kJ)')]\n",
      "thyme\n",
      "[('0.467', 'Fatty acids, saturated, total'), ('1.68', 'Total Fat'), ('5.56', 'Protein'), ('9', 'Sodium, Na'), ('14', 'Fibre, total dietary'), ('24.45', 'Carbohydrate'), ('101', 'Energy (kcal)'), ('423', 'Energy (kJ)')]\n",
      "garlic\n",
      "[('0.089', 'Fatty acids, saturated, total'), ('0.5', 'Total Fat'), ('1', 'Sugars, total'), ('2.1', 'Fibre, total dietary'), ('6.36', 'Protein'), ('17', 'Sodium, Na'), ('33.06', 'Carbohydrate'), ('149', 'Energy (kcal)'), ('623', 'Energy (kJ)')]\n",
      "flour\n",
      "[('0.12', 'Fatty acids, saturated, total'), ('0.55', 'Total Fat'), ('1.61', 'Sugars, total'), ('4.94', 'Protein'), ('13.23', 'Fibre, total dietary'), ('29.04', 'Sodium, Na'), ('89.95', 'Carbohydrate'), ('381', 'Energy (kcal)'), ('1593', 'Energy (kJ)')]\n",
      "white wine\n",
      "[('0', 'Total Fat'), ('0', 'Fibre, total dietary'), ('0', 'Fatty acids, saturated, total'), ('0.5', 'Protein'), ('1.1', 'Carbohydrate'), ('1.1', 'Sugars, total'), ('6', 'Energy (kcal)'), ('7', 'Sodium, Na'), ('25', 'Energy (kJ)')]\n",
      "chicken stock\n",
      "[('0', 'Fibre, total dietary'), ('0.321', 'Fatty acids, saturated, total'), ('1.2', 'Total Fat'), ('1.58', 'Sugars, total'), ('2.52', 'Protein'), ('3.53', 'Carbohydrate'), ('36', 'Energy (kcal)'), ('143', 'Sodium, Na'), ('151', 'Energy (kJ)')]\n",
      "Recipe 13\n",
      "all-purpose flour\n",
      "[('0.377', 'Sodium, Na'), ('0.378', 'Fatty acids, saturated, total'), ('0.544', 'Sugars, total'), ('2.241', 'Total Fat'), ('2.733', 'Fibre, total dietary'), ('12.171', 'Protein'), ('72.349', 'Carbohydrate'), ('366', 'Energy (kcal)'), ('1531', 'Energy (kJ)')]\n",
      "cornmeal\n",
      "[('0.22', 'Fatty acids, saturated, total'), ('1.61', 'Sugars, total'), ('1.75', 'Total Fat'), ('3.9', 'Fibre, total dietary'), ('7', 'Sodium, Na'), ('7.11', 'Protein'), ('79.45', 'Carbohydrate'), ('370', 'Energy (kcal)'), ('1547', 'Energy (kJ)')]\n",
      "baking powder\n",
      "[('0', 'Sugars, total'), ('0', 'Fatty acids, saturated, total'), ('0', 'Total Fat'), ('0.1', 'Protein'), ('0.2', 'Fibre, total dietary'), ('24.1', 'Carbohydrate'), ('51', 'Energy (kcal)'), ('213', 'Energy (kJ)'), ('7893', 'Sodium, Na')]\n",
      "baking soda\n",
      "[('0', 'Carbohydrate'), ('0', 'Energy (kcal)'), ('0', 'Energy (kJ)'), ('0', 'Fibre, total dietary'), ('0', 'Fatty acids, saturated, total'), ('0', 'Protein'), ('0', 'Total Fat'), ('0', 'Sugars, total'), ('27360', 'Sodium, Na')]\n",
      "salt\n",
      "[('0', 'Carbohydrate'), ('0', 'Energy (kcal)'), ('0', 'Energy (kJ)'), ('0', 'Sugars, total'), ('0', 'Fibre, total dietary'), ('0', 'Protein'), ('0', 'Total Fat'), ('0', 'Fatty acids, saturated, total'), ('38758', 'Sodium, Na')]\n",
      "butter\n",
      "[('0', 'Fibre, total dietary'), ('0.06', 'Carbohydrate'), ('0.06', 'Sugars, total'), ('0.85', 'Protein'), ('51.368', 'Fatty acids, saturated, total'), ('81.11', 'Total Fat'), ('643', 'Sodium, Na'), ('717', 'Energy (kcal)'), ('3000', 'Energy (kJ)')]\n",
      "Cheddar\n",
      "[('0', 'Fibre, total dietary'), ('0.28', 'Sugars, total'), ('1.33', 'Carbohydrate'), ('19.368', 'Fatty acids, saturated, total'), ('24.04', 'Protein'), ('33.82', 'Total Fat'), ('406', 'Energy (kcal)'), ('644', 'Sodium, Na'), ('1698', 'Energy (kJ)')]\n",
      "Parmigiano-Reggiano\n",
      "[('0', 'Fibre, total dietary'), ('0.26', 'Sugars, total'), ('1.027', 'Fatty acids, saturated, total'), ('2.96', 'Total Fat'), ('4.92', 'Carbohydrate'), ('19.73', 'Protein'), ('130', 'Energy (kcal)'), ('544', 'Energy (kJ)'), ('1038', 'Sodium, Na')]\n",
      "scallions\n",
      "[('0.032', 'Fatty acids, saturated, total'), ('0.19', 'Total Fat'), ('1.83', 'Protein'), ('2.33', 'Sugars, total'), ('2.6', 'Fibre, total dietary'), ('7.34', 'Carbohydrate'), ('16', 'Sodium, Na'), ('32', 'Energy (kcal)'), ('135', 'Energy (kJ)')]\n",
      "buttermilk\n",
      "[('1.832', 'Fatty acids, saturated, total'), ('6.8', 'Protein'), ('9.3', 'Total Fat'), ('28.7', 'Carbohydrate'), ('227', 'Energy (kcal)'), ('522', 'Sodium, Na'), ('950', 'Energy (kJ)'), ('0.96', 'Fibre, total dietary')]\n",
      "Recipe 14\n",
      "olive oil\n",
      "[('0', 'Protein'), ('0', 'Carbohydrate'), ('0', 'Sugars, total'), ('0', 'Fibre, total dietary'), ('2', 'Sodium, Na'), ('13.808', 'Fatty acids, saturated, total'), ('100', 'Total Fat'), ('885', 'Energy (kcal)'), ('3699', 'Energy (kJ)')]\n",
      "salmon\n",
      "[('0', 'Fibre, total dietary'), ('0', 'Carbohydrate'), ('0', 'Sodium, Na'), ('0', 'Protein'), ('0', 'Sugars, total'), ('19.872', 'Fatty acids, saturated, total'), ('100', 'Total Fat'), ('902', 'Energy (kcal)'), ('3774', 'Energy (kJ)')]\n",
      "orange juice\n",
      "[('0.024', 'Fatty acids, saturated, total'), ('0.2', 'Total Fat'), ('0.2', 'Fibre, total dietary'), ('0.7', 'Protein'), ('1', 'Sodium, Na'), ('8.4', 'Sugars, total'), ('10.4', 'Carbohydrate'), ('45', 'Energy (kcal)'), ('188', 'Energy (kJ)')]\n",
      "lemon juice\n",
      "[('0.04', 'Fatty acids, saturated, total'), ('0.24', 'Total Fat'), ('0.3', 'Fibre, total dietary'), ('0.35', 'Protein'), ('1', 'Sodium, Na'), ('2.52', 'Sugars, total'), ('6.9', 'Carbohydrate'), ('22', 'Energy (kcal)'), ('91', 'Energy (kJ)')]\n",
      "salt\n",
      "[('0', 'Carbohydrate'), ('0', 'Energy (kcal)'), ('0', 'Energy (kJ)'), ('0', 'Sugars, total'), ('0', 'Fibre, total dietary'), ('0', 'Protein'), ('0', 'Total Fat'), ('0', 'Fatty acids, saturated, total'), ('38758', 'Sodium, Na')]\n",
      "Recipe 15\n",
      "lemon zest\n",
      "[('0.039', 'Fatty acids, saturated, total'), ('0.3', 'Total Fat'), ('1.5', 'Protein'), ('4.17', 'Sugars, total'), ('6', 'Sodium, Na'), ('10.6', 'Fibre, total dietary'), ('16', 'Carbohydrate'), ('47', 'Energy (kcal)'), ('197', 'Energy (kJ)')]\n",
      "lemon juice\n",
      "[('0.04', 'Fatty acids, saturated, total'), ('0.24', 'Total Fat'), ('0.3', 'Fibre, total dietary'), ('0.35', 'Protein'), ('1', 'Sodium, Na'), ('2.52', 'Sugars, total'), ('6.9', 'Carbohydrate'), ('22', 'Energy (kcal)'), ('91', 'Energy (kJ)')]\n",
      "artichoke\n",
      "[('0.622', 'Fatty acids, saturated, total'), ('3.192', 'Protein'), ('3.559', 'Fibre, total dietary'), ('8.429', 'Total Fat'), ('10.254', 'Carbohydrate'), ('87.132', 'Sodium, Na'), ('119', 'Energy (kcal)'), ('498', 'Energy (kJ)')]\n",
      "Parmesan\n",
      "[('0.9', 'Sugars, total'), ('3.41', 'Carbohydrate'), ('17.37', 'Fatty acids, saturated, total'), ('27.34', 'Total Fat'), ('37.86', 'Protein'), ('415', 'Energy (kcal)'), ('1696', 'Sodium, Na'), ('1737', 'Energy (kJ)'), ('0', 'Fibre, total dietary')]\n",
      "yogurt\n",
      "[('0.2', 'Fibre, total dietary'), ('0.259', 'Fatty acids, saturated, total'), ('1.24', 'Sugars, total'), ('1.8', 'Total Fat'), ('3.5', 'Protein'), ('15.96', 'Carbohydrate'), ('35', 'Sodium, Na'), ('94', 'Energy (kcal)'), ('394', 'Energy (kJ)')]\n",
      "olive oil\n",
      "[('0', 'Protein'), ('0', 'Carbohydrate'), ('0', 'Sugars, total'), ('0', 'Fibre, total dietary'), ('2', 'Sodium, Na'), ('13.808', 'Fatty acids, saturated, total'), ('100', 'Total Fat'), ('885', 'Energy (kcal)'), ('3699', 'Energy (kJ)')]\n",
      "salt\n",
      "[('0', 'Carbohydrate'), ('0', 'Energy (kcal)'), ('0', 'Energy (kJ)'), ('0', 'Sugars, total'), ('0', 'Fibre, total dietary'), ('0', 'Protein'), ('0', 'Total Fat'), ('0', 'Fatty acids, saturated, total'), ('38758', 'Sodium, Na')]\n",
      "pepper\n",
      "[('1.04', 'Protein'), ('1.557', 'Fatty acids, saturated, total'), ('1.8', 'Fibre, total dietary'), ('4.28', 'Sugars, total'), ('6.57', 'Carbohydrate'), ('12.75', 'Total Fat'), ('21', 'Sodium, Na'), ('133', 'Energy (kcal)'), ('555', 'Energy (kJ)')]\n",
      "health score in recipes has been saved\n"
     ]
    }
   ],
   "source": [
    "file_path=\"/content/drive/MyDrive/ECE1786/processed_recipes_init_200_batch_3.json\"\n",
    "with open(file_path,\"r\") as file:\n",
    "  recipes=json.load(file)\n",
    "\n",
    "for i,recipe in enumerate(recipes):\n",
    "  print(f\"Recipe {i}\")\n",
    "  health_score,score_summary=get_health_score_with_rag(retriever,recipe)\n",
    "  recipe[\"total_health_score\"]=health_score\n",
    "  recipe[\"summary_of_points\"] = score_summary\n",
    "\n",
    "output_file_path=\"/content/drive/MyDrive/ECE1786/scored_recipes_init_200_batch_3.json\"\n",
    "with open(output_file_path, \"w\") as file:\n",
    "  json.dump(recipes, file, indent=4)\n",
    "  print(f\"health score in recipes has been saved\")"
   ]
  },
  {
   "cell_type": "code",
   "execution_count": null,
   "metadata": {
    "id": "afL4AY1PCP7K"
   },
   "outputs": [],
   "source": []
  }
 ],
 "metadata": {
  "colab": {
   "authorship_tag": "ABX9TyPPcLXWy03M7hwZ/CnL+EQd",
   "provenance": []
  },
  "kernelspec": {
   "display_name": "Python 3 (ipykernel)",
   "language": "python",
   "name": "python3"
  },
  "language_info": {
   "codemirror_mode": {
    "name": "ipython",
    "version": 3
   },
   "file_extension": ".py",
   "mimetype": "text/x-python",
   "name": "python",
   "nbconvert_exporter": "python",
   "pygments_lexer": "ipython3",
   "version": "3.12.4"
  }
 },
 "nbformat": 4,
 "nbformat_minor": 4
}
