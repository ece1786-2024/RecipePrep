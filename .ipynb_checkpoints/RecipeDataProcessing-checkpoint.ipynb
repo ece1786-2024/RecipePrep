{
 "cells": [
  {
   "cell_type": "code",
   "execution_count": 1,
   "metadata": {
    "colab": {
     "base_uri": "https://localhost:8080/"
    },
    "id": "2uxGRAb98JNs",
    "outputId": "c71dded3-d0a0-4fcd-c4fe-2cbe2538828e"
   },
   "outputs": [
    {
     "name": "stdout",
     "output_type": "stream",
     "text": [
      "Requirement already satisfied: openai in /usr/local/lib/python3.10/dist-packages (1.54.3)\n",
      "Requirement already satisfied: anyio<5,>=3.5.0 in /usr/local/lib/python3.10/dist-packages (from openai) (3.7.1)\n",
      "Requirement already satisfied: distro<2,>=1.7.0 in /usr/local/lib/python3.10/dist-packages (from openai) (1.9.0)\n",
      "Requirement already satisfied: httpx<1,>=0.23.0 in /usr/local/lib/python3.10/dist-packages (from openai) (0.27.2)\n",
      "Requirement already satisfied: jiter<1,>=0.4.0 in /usr/local/lib/python3.10/dist-packages (from openai) (0.7.0)\n",
      "Requirement already satisfied: pydantic<3,>=1.9.0 in /usr/local/lib/python3.10/dist-packages (from openai) (2.9.2)\n",
      "Requirement already satisfied: sniffio in /usr/local/lib/python3.10/dist-packages (from openai) (1.3.1)\n",
      "Requirement already satisfied: tqdm>4 in /usr/local/lib/python3.10/dist-packages (from openai) (4.66.6)\n",
      "Requirement already satisfied: typing-extensions<5,>=4.11 in /usr/local/lib/python3.10/dist-packages (from openai) (4.12.2)\n",
      "Requirement already satisfied: idna>=2.8 in /usr/local/lib/python3.10/dist-packages (from anyio<5,>=3.5.0->openai) (3.10)\n",
      "Requirement already satisfied: exceptiongroup in /usr/local/lib/python3.10/dist-packages (from anyio<5,>=3.5.0->openai) (1.2.2)\n",
      "Requirement already satisfied: certifi in /usr/local/lib/python3.10/dist-packages (from httpx<1,>=0.23.0->openai) (2024.8.30)\n",
      "Requirement already satisfied: httpcore==1.* in /usr/local/lib/python3.10/dist-packages (from httpx<1,>=0.23.0->openai) (1.0.6)\n",
      "Requirement already satisfied: h11<0.15,>=0.13 in /usr/local/lib/python3.10/dist-packages (from httpcore==1.*->httpx<1,>=0.23.0->openai) (0.14.0)\n",
      "Requirement already satisfied: annotated-types>=0.6.0 in /usr/local/lib/python3.10/dist-packages (from pydantic<3,>=1.9.0->openai) (0.7.0)\n",
      "Requirement already satisfied: pydantic-core==2.23.4 in /usr/local/lib/python3.10/dist-packages (from pydantic<3,>=1.9.0->openai) (2.23.4)\n",
      "Requirement already satisfied: pandas in /usr/local/lib/python3.10/dist-packages (2.2.2)\n",
      "Requirement already satisfied: numpy>=1.22.4 in /usr/local/lib/python3.10/dist-packages (from pandas) (1.26.4)\n",
      "Requirement already satisfied: python-dateutil>=2.8.2 in /usr/local/lib/python3.10/dist-packages (from pandas) (2.8.2)\n",
      "Requirement already satisfied: pytz>=2020.1 in /usr/local/lib/python3.10/dist-packages (from pandas) (2024.2)\n",
      "Requirement already satisfied: tzdata>=2022.7 in /usr/local/lib/python3.10/dist-packages (from pandas) (2024.2)\n",
      "Requirement already satisfied: six>=1.5 in /usr/local/lib/python3.10/dist-packages (from python-dateutil>=2.8.2->pandas) (1.16.0)\n"
     ]
    }
   ],
   "source": [
    "!pip install openai\n",
    "!pip install pandas"
   ]
  },
  {
   "cell_type": "code",
   "execution_count": 23,
   "metadata": {
    "id": "ietWo6G38nT0"
   },
   "outputs": [],
   "source": [
    "from openai import OpenAI\n",
    "import json\n",
    "import random"
   ]
  },
  {
   "cell_type": "code",
   "execution_count": 2,
   "metadata": {
    "colab": {
     "base_uri": "https://localhost:8080/"
    },
    "id": "x63c3tBZ8pRO",
    "outputId": "9324c5eb-bf65-4c63-d51f-c631707f7ff9"
   },
   "outputs": [
    {
     "name": "stdout",
     "output_type": "stream",
     "text": [
      "Drive already mounted at /content/drive; to attempt to forcibly remount, call drive.mount(\"/content/drive\", force_remount=True).\n",
      "/content/drive/MyDrive/ECE1786/Project\n"
     ]
    }
   ],
   "source": [
    "from google.colab import drive\n",
    "drive.mount('/content/drive')\n",
    "%cd  /content/drive/MyDrive/ECE1786/Project"
   ]
  },
  {
   "cell_type": "code",
   "execution_count": 4,
   "metadata": {
    "id": "0c4GbpPg834n"
   },
   "outputs": [],
   "source": [
    " # API+Key\n",
    "api_key = \"API_KEY\""
   ]
  },
  {
   "cell_type": "markdown",
   "metadata": {
    "id": "kCNG_0ekQ4Un"
   },
   "source": [
    "## Data Processing"
   ]
  },
  {
   "cell_type": "markdown",
   "metadata": {
    "id": "zsbO8D8aQ54N"
   },
   "source": [
    "### Recipe Data Initial Processing"
   ]
  },
  {
   "cell_type": "code",
   "execution_count": 17,
   "metadata": {
    "id": "l1TJiCM385KS"
   },
   "outputs": [],
   "source": [
    "def get_API_response(client,in_prompt,user_input,temp,topp):\n",
    "\n",
    "  #print(\"temperature= {0}, top_p= {1} , max_tokens={2}, input_statement={3}\".format(temp,topp,max_token,input_statement))\n",
    "\n",
    "  chat_completion = client.chat.completions.create(\n",
    "    messages=[\n",
    "        {\"role\": \"system\", \"content\": in_prompt},\n",
    "        {\"role\": \"user\", \"content\": user_input}\n",
    "    ],\n",
    "    model=\"gpt-4o\",\n",
    "    temperature = temp,\n",
    "    top_p = topp\n",
    "  )\n",
    "  response = chat_completion.choices[0].message.content\n",
    "  #print(chat_completion)\n",
    "\n",
    "  return response"
   ]
  },
  {
   "cell_type": "code",
   "execution_count": 132,
   "metadata": {
    "id": "JEyXgTS4I9GS"
   },
   "outputs": [],
   "source": [
    "def process_API_res_get_processed_recipe(API_resonse,recipe_id,eachRecipe):\n",
    "  try:\n",
    "    processed_res= json.loads(API_resonse)\n",
    "  except Exception as e:\n",
    "      print(f\"Error: {e}\")\n",
    "      print(API_resonse)\n",
    "\n",
    "  processed_recipe = {\n",
    "        \"recipe_id\": recipe_id,\n",
    "        \"recipe_title\": eachRecipe[\"title\"],\n",
    "        \"original_instructions\": eachRecipe[\"instructions\"],\n",
    "        \"ingredients\": eachRecipe[\"ingredients\"],\n",
    "        \"processed_output\": processed_res\n",
    "    }\n",
    "\n",
    "  return processed_recipe\n"
   ]
  },
  {
   "cell_type": "code",
   "execution_count": 133,
   "metadata": {
    "id": "_TkprNFRKkXE"
   },
   "outputs": [],
   "source": [
    "def get_processed_recipe_dataset(client,temp,topp,raw_recipe_dataset):\n",
    "\n",
    "  out_list = []\n",
    "\n",
    "  for recipe_id, eachRecipe in raw_recipe_dataset.items():\n",
    "\n",
    "    #pass recipe to GPT\n",
    "    ingredients_str = ', '.join(eachRecipe['ingredients'])\n",
    "    prompt_recipe_process = recipe_process_prompt.format(eachRecipe[\"title\"],eachRecipe[\"instructions\"],ingredients_str)\n",
    "    response = get_API_response(client, in_prompt=prompt_recipe_process, user_input=\"\", temp=temp, topp=topp)\n",
    "    #print(response)\n",
    "    # get processed recipe\n",
    "    processed_recipe =  process_API_res_get_processed_recipe(response,recipe_id,eachRecipe)\n",
    "    out_list.append(processed_recipe)\n",
    "\n",
    "  return out_list"
   ]
  },
  {
   "cell_type": "code",
   "execution_count": 134,
   "metadata": {
    "id": "X23V0Yps-b1g"
   },
   "outputs": [],
   "source": [
    "#Get testing file\n",
    "with open(\"sampled_test_data.json\", \"r\") as f:\n",
    "    recipe_dataset = json.load(f)"
   ]
  },
  {
   "cell_type": "code",
   "execution_count": 141,
   "metadata": {
    "id": "4N2anRX6-ilN"
   },
   "outputs": [],
   "source": [
    "recipe_process_prompt = '''\n",
    "You are a helpful assistant that can process the following recipe:\n",
    "\n",
    "title = {0}\n",
    "Instructions = {1}\n",
    "Ingredients = {2}\n",
    "\n",
    "The output must contains the following attributes:\n",
    "- step_by_step_instructions: Instructions broken into steps.\n",
    "- main_ingredients: Key ingredients. Only include ingredient name.\n",
    "- less_important_ingredients: Less important ingredients. Only include ingredient name.\n",
    "- cooking_methods: All required cooking methods (e.g., baking, frying)\n",
    "- cooking_time: Estimated total cooking time\n",
    "- required_tools: List of necessary tools\n",
    "- dietary_labels: Dietary tags (e.g., vegan, gluten-free)\n",
    "- nutrition_value: Please calculate the calories in for each recipe\n",
    "- meet_daily_nutrition_need: Specify if the calcualted calories meet the daily nutrition need (~2,000 to 2,200 calories per day). Only output \"true\" or \"false\".\n",
    "\n",
    "The output must be a string in JSON format that contains the above attributes. Do not need to specify the format type(i.e. json) at the beginning of the output string\n",
    "\n",
    "'''"
   ]
  },
  {
   "cell_type": "code",
   "execution_count": 142,
   "metadata": {
    "id": "aopBiTcZ_VsL"
   },
   "outputs": [],
   "source": [
    "#Init the client\n",
    "recipe_data_process_client = OpenAI(\n",
    "    # This is the default and can be omitted\n",
    "    api_key=api_key,\n",
    ")\n",
    "temp = 1\n",
    "topp = 1\n",
    "\n",
    "test_recipes = random.sample(list(recipe_dataset.items()), 10)\n",
    "test_recipes = dict(test_recipes)\n",
    "\n",
    "processed_recipe_list = get_processed_recipe_dataset(recipe_data_process_client,temp,topp,test_recipes)\n"
   ]
  },
  {
   "cell_type": "code",
   "execution_count": 143,
   "metadata": {
    "colab": {
     "base_uri": "https://localhost:8080/"
    },
    "id": "9wNLeWg_Cfob",
    "outputId": "4ac29e8f-eebf-4ba3-fad6-c413e722cd08"
   },
   "outputs": [
    {
     "name": "stdout",
     "output_type": "stream",
     "text": [
      "processed_recipe_list has been saved\n"
     ]
    }
   ],
   "source": [
    "with open(\"./datasets/test_processed_recipes.json\", \"w\") as file:\n",
    "    json.dump(processed_recipe_list, file, indent=4)\n",
    "\n",
    "print(\"processed_recipe_list has been saved\")"
   ]
  },
  {
   "cell_type": "markdown",
   "metadata": {
    "id": "zn7ndtKDQ-XG"
   },
   "source": [
    "### Ingredient-Nutrient Mapping\n",
    "\n",
    "Use https://produits-sante.canada.ca/api/documentation/cnf-documentation-en.html\n",
    "\n",
    "Step1: Use the food_code dataset and fuzzy match to get the food_code with description that is cloest to the ingredient\n",
    "\n",
    "Note: RapidFuzz is a fast string matching library for Python and C++, which is using the string similarity calculations from FuzzyWuzzy. \n",
    "\n",
    "Step2: Use the food_code to get nutrient amount(s) \n",
    "\n",
    "Step 3: Save the mapping for the ingredient in the ingre_nutrition_map folder\n"
   ]
  },
  {
   "cell_type": "code",
   "execution_count": 1,
   "metadata": {},
   "outputs": [],
   "source": [
    "import json\n",
    "\n",
    "file_path = './datasets/test_processed_recipes.json'\n",
    "with open(file_path, 'r') as f:\n",
    "    processed_recipe_list = json.load(f)"
   ]
  },
  {
   "cell_type": "code",
   "execution_count": 3,
   "metadata": {
    "colab": {
     "base_uri": "https://localhost:8080/"
    },
    "id": "JV_oMdO0RDkv",
    "outputId": "a2f06561-68c2-4038-a014-5e8683640197"
   },
   "outputs": [
    {
     "name": "stdout",
     "output_type": "stream",
     "text": [
      "['Ancho chile powder', 'Basic tomato sauce', 'Boneless rib-eyes', 'Butter', 'Canola oil', 'Carrot', 'Chicken stock', 'Chives', 'Cinzano Rosso sweet vermouth', 'Cream', 'Dijon mustard', 'Dried oregano', 'Dry mustard', 'Freshly ground pepper', 'Garlic', 'Ground coriander', 'Ground cumin', 'Honey', 'Horseradish', 'Ketchup', 'Kosher salt', 'Milk', 'Molasses', 'Old Fashioned Frosting', 'Olive oil', 'Osetra caviar', 'Pepper', 'Russet potatoes', 'Salt', 'Seasoned flour', 'Sour cream', 'Spanish onions', 'Speck', 'Sweet paprika', 'Thyme', 'Tomatoes', 'Venison', 'Waxy potatoes', 'Whole-grain mustard', 'all-purpose flour', 'bacon', 'baking powder', 'baking soda', 'black pepper', 'bok choy', 'butter', 'cake flour', 'cayenne pepper', 'celery seeds', 'cider vinegar', 'coarse salt', \"confectioners' sugar\", 'dry mustard', 'dry pectin', 'egg white', 'eggs', 'fresh flat-leafed parsley leaves', 'freshly grated nutmeg', 'freshly ground pepper', 'garlic', 'granulated sugar', 'ground anise', 'ground cinnamon', 'ground cloves', 'ground ginger', 'ground turmeric', 'kosher salt', 'lemon zest', 'light brown sugar', 'lobster knuckle meat', 'lobster stock', 'minced garlic', 'minced ginger', 'mustard seeds', 'onion', 'pickling cucumbers or Kirbies', 'plain flour', 'rabbit', 'red bell pepper', 'rice wine vinegar', 'salt', 'sliced blanched almonds', 'sorrel or sage leaves', 'sugar', 'unbleached all-purpose flour', 'unsalted butter', 'vanilla extract', 'white distilled vinegar', 'white wine', 'whole milk', 'yellow onions', 'zucchini or yellow squash']\n"
     ]
    }
   ],
   "source": [
    "all_ingredients = set() #unique set\n",
    "\n",
    "for eachRecipe in processed_recipe_list:\n",
    "    main_ingredients = eachRecipe[\"processed_output\"].get(\"main_ingredients\", [])\n",
    "    less_important_ingredients = eachRecipe[\"processed_output\"].get(\"less_important_ingredients\", [])\n",
    "\n",
    "    all_ingredients.update(main_ingredients)\n",
    "    all_ingredients.update(less_important_ingredients)\n",
    "\n",
    "\n",
    "all_ingredients_list = sorted(all_ingredients)\n",
    "print(all_ingredients_list)"
   ]
  },
  {
   "cell_type": "code",
   "execution_count": 5,
   "metadata": {},
   "outputs": [],
   "source": [
    "import fussy_match_ingredient_list as fuzzy_helper\n",
    "import food_nutrient_mapping_helpder as ingre_nut_map_helper"
   ]
  },
  {
   "cell_type": "code",
   "execution_count": 7,
   "metadata": {},
   "outputs": [],
   "source": [
    "def get_all_ingredient_mapping(all_ingredients_list,untri_unit_map):\n",
    "    all_mapping = []\n",
    "    for eachIngre in all_ingredients_list:\n",
    "        \n",
    "        ingredient_match = fuzzy_helper.get_match_food_codes(eachIngre, \n",
    "                                                        food_code_dataset,\n",
    "                                                        min_score_threshold,\n",
    "                                                        test_matchMode)\n",
    "  \n",
    "        print(f\"---Best Match for Ingredient [{eachIngre}]:\")\n",
    "        match = next(iter(ingredient_match.values()), None)\n",
    "        if match:\n",
    "            print(f\"  Description: {match['description']}, Score: {round(match['score'],4)}, Food Code: {match['food_code']}\")\n",
    "            \n",
    "            map_created, untri_unit_map = ingre_nut_map_helper.get_save_nutrient_to_file(match,eachIngre,untri_unit_map)\n",
    "            if map_created:\n",
    "                all_mapping.append(map_created)\n",
    "            else:\n",
    "                print(f\"Ingredient: {eachIngre} - No map created\")\n",
    "        else:\n",
    "            print(f\"************Ingredient: {eachIngre} - No match found above threshold.\")\n",
    "  \n",
    "    print(\"All ingredients processed!\")\n",
    "\n",
    "    return all_mapping,untri_unit_map\n",
    "    "
   ]
  },
  {
   "cell_type": "code",
   "execution_count": 9,
   "metadata": {},
   "outputs": [],
   "source": [
    "food_code_dataset = fuzzy_helper.get_food_code_dataset()\n",
    "nut_unit_map_name = ingre_nut_map_helper.get_unitMap_name()\n",
    "ntri_unit_map = ingre_nut_map_helper.load_nut_id_map(nut_unit_map_name)"
   ]
  },
  {
   "cell_type": "code",
   "execution_count": 11,
   "metadata": {
    "id": "mf5f_CtfRbEY"
   },
   "outputs": [
    {
     "name": "stdout",
     "output_type": "stream",
     "text": [
      "---Best Match for Ingredient [Ancho chile powder]:\n",
      "  Description: spices, chili powder, Score: 63.1579, Food Code: 177\n",
      "---Best Match for Ingredient [Basic tomato sauce]:\n",
      "  Description: tomato products, canned, sauce, Score: 80.0, Food Code: 2465\n",
      "---Best Match for Ingredient [Boneless rib-eyes]:\n",
      "  Description: beef, rib, rib eye roast, boneless, lean, raw, Score: 54.8387, Food Code: 6062\n",
      "---Best Match for Ingredient [Butter]:\n",
      "  Description: butter oil, anhydrous, Score: 100.0, Food Code: 17\n",
      "---Best Match for Ingredient [Canola oil]:\n",
      "  Description: spread, 20% butter / 80% canola oil, Score: 100.0, Food Code: 550\n",
      "---Best Match for Ingredient [Carrot]:\n",
      "  Description: carrot juice, canned, Score: 100.0, Food Code: 2312\n",
      "---Best Match for Ingredient [Chicken stock]:\n",
      "  Description: chinese dish, chow mein, chicken, Score: 70.0, Food Code: 5\n",
      "---Best Match for Ingredient [Chives]:\n",
      "  Description: fast foods, side dish, potato, baked, topped with sour cream and chives, Score: 100.0, Food Code: 4661\n",
      "---Best Match for Ingredient [Cinzano Rosso sweet vermouth]:\n",
      "  Description: sweet roll, cinnamon with raisins, commercial, Score: 57.5342, Food Code: 3990\n",
      "---Best Match for Ingredient [Cream]:\n",
      "  Description: cheese, cream, Score: 100.0, Food Code: 28\n",
      "---Best Match for Ingredient [Dijon mustard]:\n",
      "  Description: spices, mustard seed, yellow, Score: 70.0, Food Code: 192\n",
      "---Best Match for Ingredient [Dried oregano]:\n",
      "  Description: longan, dried, Score: 76.9231, Food Code: 1600\n",
      "---Best Match for Ingredient [Dry mustard]:\n",
      "  Description: spices, mustard seed, yellow, Score: 77.7778, Food Code: 192\n",
      "---Best Match for Ingredient [Freshly ground pepper]:\n",
      "  Description: peppermint, fresh, Score: 63.1579, Food Code: 4724\n",
      "---Best Match for Ingredient [Garlic]:\n",
      "  Description: spices, garlic powder, Score: 100.0, Food Code: 188\n",
      "---Best Match for Ingredient [Ground coriander]:\n",
      "  Description: spices, coriander leaf (cilantro), dried, Score: 72.0, Food Code: 180\n",
      "---Best Match for Ingredient [Ground cumin]:\n",
      "  Description: spices, allspice, ground, Score: 66.6667, Food Code: 169\n",
      "---Best Match for Ingredient [Honey]:\n",
      "  Description: cereal, ready to eat, cheerios: honey nut, general mills, Score: 100.0, Food Code: 1256\n",
      "---Best Match for Ingredient [Horseradish]:\n",
      "  Description: horseradish, prepared, Score: 68.75, Food Code: 4891\n",
      "---Best Match for Ingredient [Ketchup]:\n",
      "  Description: tomato ketchup (catsup), Score: 100.0, Food Code: 2494\n",
      "---Best Match for Ingredient [Kosher salt]:\n",
      "  Description: pickles, cucumber, dill (includes kosher and polish), Score: 70.5882, Food Code: 2495\n",
      "---Best Match for Ingredient [Milk]:\n",
      "  Description: cheese, ricotta, with whole milk, Score: 100.0, Food Code: 43\n",
      "---Best Match for Ingredient [Molasses]:\n",
      "  Description: sweets, fancy molasses, Score: 100.0, Food Code: 4299\n",
      "---Best Match for Ingredient [Old Fashioned Frosting]:\n",
      "  Description: deli-meat, old fashioned smoked brisket, sliced, Score: 74.2857, Food Code: 7155\n",
      "---Best Match for Ingredient [Olive oil]:\n",
      "  Description: margarine, tub, non-hydrogenated, canola and olive oil, Score: 100.0, Food Code: 7470\n",
      "---Best Match for Ingredient [Osetra caviar]:\n",
      "  Description: carrot, raw, Score: 58.3333, Food Code: 2380\n",
      "---Best Match for Ingredient [Pepper]:\n",
      "  Description: sauce, pepper or hot, ready-to-serve, Score: 100.0, Food Code: 1029\n",
      "---Best Match for Ingredient [Russet potatoes]:\n",
      "  Description: fried chicken, mashed potatoes and vegetables, Score: 69.5652, Food Code: 8\n",
      "---Best Match for Ingredient [Salt]:\n",
      "  Description: pork, cured, salt pork, raw, Score: 100.0, Food Code: 1874\n",
      "---Best Match for Ingredient [Seasoned flour]:\n",
      "  Description: bread crumbs, dry, grated, seasoned, Score: 72.7273, Food Code: 4060\n",
      "---Best Match for Ingredient [Sour cream]:\n",
      "  Description: icing (frosting), sour cream flavour, ready to eat, Score: 100.0, Food Code: 4377\n",
      "---Best Match for Ingredient [Spanish onions]:\n",
      "  Description: fish, mackerel, spanish (atlantic), raw, Score: 66.6667, Food Code: 3026\n",
      "---Best Match for Ingredient [Speck]:\n",
      "  Description: zwieback, Score: 46.1538, Food Code: 6551\n",
      "---Best Match for Ingredient [Sweet paprika]:\n",
      "  Description: spices, paprika, Score: 71.4286, Food Code: 196\n",
      "---Best Match for Ingredient [Thyme]:\n",
      "  Description: veal, thymus, raw, Score: 45.4545, Food Code: 3633\n",
      "---Best Match for Ingredient [Tomatoes]:\n",
      "  Description: fast foods, mexican, nachos with cheese, beans, ground beef and tomatoes, Score: 100.0, Food Code: 4607\n",
      "---Best Match for Ingredient [Venison]:\n",
      "  Description: onion, raw, Score: 47.0588, Food Code: 2401\n",
      "---Best Match for Ingredient [Waxy potatoes]:\n",
      "  Description: fried chicken, mashed potatoes and vegetables, Score: 76.1905, Food Code: 8\n",
      "---Best Match for Ingredient [Whole-grain mustard]:\n",
      "  Description: coffee substitute, cereal grain beverage, powder, with whole milk, Score: 73.3333, Food Code: 2931\n",
      "---Best Match for Ingredient [all-purpose flour]:\n",
      "  Description: yam, flour, Score: 66.6667, Food Code: 6188\n",
      "---Best Match for Ingredient [bacon]:\n",
      "  Description: pork, cured, bacon bits, cooked, Score: 100.0, Food Code: 1979\n",
      "---Best Match for Ingredient [baking powder]:\n",
      "  Description: spices, chili powder, Score: 63.1579, Food Code: 177\n",
      "---Best Match for Ingredient [baking soda]:\n",
      "  Description: leavening agent, baking soda, Score: 100.0, Food Code: 4005\n",
      "---Best Match for Ingredient [black pepper]:\n",
      "  Description: soup, red pepper and black bean, ready-to-serve, reduced sodium, Score: 100.0, Food Code: 6323\n",
      "---Best Match for Ingredient [bok choy]:\n",
      "  Description: bok choy, pak-choi, raw, Score: 54.5455, Food Code: 2038\n",
      "---Best Match for Ingredient [butter]:\n",
      "  Description: butter oil, anhydrous, Score: 100.0, Food Code: 17\n",
      "---Best Match for Ingredient [cake flour]:\n",
      "  Description: grains, wheat flour, white, cake flour, Score: 100.0, Food Code: 4446\n",
      "---Best Match for Ingredient [cayenne pepper]:\n",
      "  Description: spices, pepper, red or cayenne, Score: 66.6667, Food Code: 199\n",
      "---Best Match for Ingredient [celery seeds]:\n",
      "  Description: spices, celery seed, Score: 77.4194, Food Code: 175\n",
      "---Best Match for Ingredient [cider vinegar]:\n",
      "  Description: vinegar, cider, Score: 96.2963, Food Code: 13\n",
      "---Best Match for Ingredient [coarse salt]:\n",
      "  Description: collards, raw, Score: 58.3333, Food Code: 2063\n",
      "---Best Match for Ingredient [confectioners' sugar]:\n",
      "  Description: cookie, sugar, commercial, Score: 57.7778, Food Code: 3849\n",
      "---Best Match for Ingredient [dry mustard]:\n",
      "  Description: spices, mustard seed, yellow, Score: 77.7778, Food Code: 192\n",
      "---Best Match for Ingredient [dry pectin]:\n",
      "  Description: pectin, liquid, Score: 66.6667, Food Code: 5749\n",
      "---Best Match for Ingredient [egg white]:\n",
      "  Description: spices, pepper, white, Score: 71.4286, Food Code: 200\n",
      "---Best Match for Ingredient [eggs]:\n",
      "  Description: breakfast, scrambled eggs & sausage with hashed brown potatoes, frozen, Score: 100.0, Food Code: 4942\n",
      "---Best Match for Ingredient [fresh flat-leafed parsley leaves]:\n",
      "  Description: basil, fresh, Score: 58.8235, Food Code: 212\n",
      "---Best Match for Ingredient [freshly grated nutmeg]:\n",
      "  Description: sauce, alfredo, dehydrated, Score: 55.3191, Food Code: 4905\n",
      "---Best Match for Ingredient [freshly ground pepper]:\n",
      "  Description: peppermint, fresh, Score: 63.1579, Food Code: 4724\n",
      "---Best Match for Ingredient [garlic]:\n",
      "  Description: spices, garlic powder, Score: 100.0, Food Code: 188\n",
      "---Best Match for Ingredient [granulated sugar]:\n",
      "  Description: sweetener, granulated brown sugar, Score: 100.0, Food Code: 6818\n",
      "---Best Match for Ingredient [ground anise]:\n",
      "  Description: spices, allspice, ground, Score: 66.6667, Food Code: 169\n",
      "---Best Match for Ingredient [ground cinnamon]:\n",
      "  Description: spices, cinnamon, ground, Score: 76.9231, Food Code: 178\n",
      "---Best Match for Ingredient [ground cloves]:\n",
      "  Description: spices, cloves, ground, Score: 74.2857, Food Code: 179\n",
      "---Best Match for Ingredient [ground ginger]:\n",
      "  Description: spices, ginger, ground, Score: 74.2857, Food Code: 189\n",
      "---Best Match for Ingredient [ground turmeric]:\n",
      "  Description: spices, turmeric, ground, Score: 76.9231, Food Code: 211\n",
      "---Best Match for Ingredient [kosher salt]:\n",
      "  Description: pickles, cucumber, dill (includes kosher and polish), Score: 70.5882, Food Code: 2495\n",
      "---Best Match for Ingredient [lemon zest]:\n",
      "  Description: lemon juice, raw, Score: 66.6667, Food Code: 1589\n",
      "---Best Match for Ingredient [light brown sugar]:\n",
      "  Description: toaster pastry, brown sugar and cinnamon, Score: 78.5714, Food Code: 3995\n",
      "---Best Match for Ingredient [lobster knuckle meat]:\n",
      "  Description: turkey, hen, leg, meat only, roasted, Score: 53.5714, Food Code: 6853\n",
      "---Best Match for Ingredient [lobster stock]:\n",
      "  Description: crustaceans, spiny lobster (crawfish, rock lobster), mixed species, raw, Score: 70.0, Food Code: 3106\n",
      "---Best Match for Ingredient [minced garlic]:\n",
      "  Description: bread, garlic, Score: 69.2308, Food Code: 7087\n",
      "---Best Match for Ingredient [minced ginger]:\n",
      "  Description: ginger root, raw, Score: 63.1579, Food Code: 2091\n",
      "---Best Match for Ingredient [mustard seeds]:\n",
      "  Description: spices, mustard seed, yellow, Score: 70.0, Food Code: 192\n",
      "---Best Match for Ingredient [onion]:\n",
      "  Description: spices, onion powder, Score: 100.0, Food Code: 194\n",
      "---Best Match for Ingredient [pickling cucumbers or Kirbies]:\n",
      "  Description: pickles, cucumber, dill, low sodium, Score: 59.375, Food Code: 2497\n",
      "---Best Match for Ingredient [plain flour]:\n",
      "  Description: potato flour, Score: 69.5652, Food Code: 2440\n",
      "---Best Match for Ingredient [rabbit]:\n",
      "  Description: rhubarb, raw, Score: 44.4444, Food Code: 1748\n",
      "---Best Match for Ingredient [red bell pepper]:\n",
      "  Description: soup, red pepper and black bean, ready-to-serve, reduced sodium, Score: 80.0, Food Code: 6323\n",
      "---Best Match for Ingredient [rice wine vinegar]:\n",
      "  Description: vinegar, red wine, Score: 88.2353, Food Code: 6195\n",
      "---Best Match for Ingredient [salt]:\n",
      "  Description: pork, cured, salt pork, raw, Score: 100.0, Food Code: 1874\n",
      "---Best Match for Ingredient [sliced blanched almonds]:\n",
      "  Description: nuts, almonds, oil roasted, blanched, Score: 71.1864, Food Code: 2538\n",
      "---Best Match for Ingredient [sorrel or sage leaves]:\n",
      "  Description: mountain sorrel, native, leaves, raw, Score: 63.1579, Food Code: 5937\n",
      "---Best Match for Ingredient [sugar]:\n",
      "  Description: cereal, ready to eat, sugar crisp, post, Score: 100.0, Food Code: 1270\n",
      "---Best Match for Ingredient [unbleached all-purpose flour]:\n",
      "  Description: grains, wheat flour, white, all purpose, unbleached, Score: 70.8861, Food Code: 6642\n",
      "---Best Match for Ingredient [unsalted butter]:\n",
      "  Description: butter, unsalted, Score: 96.7742, Food Code: 92\n",
      "---Best Match for Ingredient [vanilla extract]:\n",
      "  Description: vanilla extract, Score: 100.0, Food Code: 216\n",
      "---Best Match for Ingredient [white distilled vinegar]:\n",
      "  Description: vinegar, red wine, Score: 70.0, Food Code: 6195\n",
      "---Best Match for Ingredient [white wine]:\n",
      "  Description: spices, pepper, white, Score: 66.6667, Food Code: 200\n",
      "---Best Match for Ingredient [whole milk]:\n",
      "  Description: cheese, ricotta, with whole milk, Score: 100.0, Food Code: 43\n",
      "---Best Match for Ingredient [yellow onions]:\n",
      "  Description: onion, yellow, sauteed, Score: 74.2857, Food Code: 5960\n",
      "---Best Match for Ingredient [zucchini or yellow squash]:\n",
      "  Description: squash, summer, zucchini, raw, Score: 70.3704, Food Code: 2225\n",
      "All ingredients processed!\n"
     ]
    }
   ],
   "source": [
    "# Loopthourugh each ingredients to get it's mapping file\n",
    "min_score_threshold = 30\n",
    "test_matchMode= \"Best_Match\"\n",
    "\n",
    "master_map_list,untri_unit_map = get_all_ingredient_mapping(all_ingredients_list,ntri_unit_map)\n"
   ]
  },
  {
   "cell_type": "code",
   "execution_count": 12,
   "metadata": {},
   "outputs": [
    {
     "name": "stdout",
     "output_type": "stream",
     "text": [
      "Unit map ingre_nutrition_map/nutrient_unit_map.json updated!\n",
      "Data has been saved to ingre_nutrition_map/ingredient_nutrient_map.json\n"
     ]
    }
   ],
   "source": [
    "ingre_nut_map_helper.save_nut_id_map(untri_unit_map,nut_unit_map_name)\n",
    "\n",
    "MAP_BASE_PATH  = 'ingre_nutrition_map'\n",
    "\n",
    "output_file_name = f\"{MAP_BASE_PATH}/ingredient_nutrient_map.json\"\n",
    "with open(output_file_name, \"w\") as file:\n",
    "    json.dump(master_map_list, file, indent=4)\n",
    "\n",
    "print(f\"Data has been saved to {output_file_name}\")"
   ]
  },
  {
   "cell_type": "code",
   "execution_count": null,
   "metadata": {},
   "outputs": [],
   "source": []
  }
 ],
 "metadata": {
  "colab": {
   "provenance": []
  },
  "kernelspec": {
   "display_name": "Python 3 (ipykernel)",
   "language": "python",
   "name": "python3"
  },
  "language_info": {
   "codemirror_mode": {
    "name": "ipython",
    "version": 3
   },
   "file_extension": ".py",
   "mimetype": "text/x-python",
   "name": "python",
   "nbconvert_exporter": "python",
   "pygments_lexer": "ipython3",
   "version": "3.12.4"
  }
 },
 "nbformat": 4,
 "nbformat_minor": 4
}
